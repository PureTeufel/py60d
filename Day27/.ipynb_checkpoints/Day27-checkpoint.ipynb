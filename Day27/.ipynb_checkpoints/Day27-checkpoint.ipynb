{
 "cells": [
  {
   "cell_type": "markdown",
   "metadata": {},
   "source": [
    "#### 列表与 `*` 操作"
   ]
  },
  {
   "cell_type": "code",
   "execution_count": null,
   "metadata": {},
   "outputs": [],
   "source": []
  },
  {
   "cell_type": "markdown",
   "metadata": {},
   "source": [
    "#### 删除列表元素"
   ]
  },
  {
   "cell_type": "code",
   "execution_count": null,
   "metadata": {},
   "outputs": [],
   "source": []
  },
  {
   "cell_type": "markdown",
   "metadata": {},
   "source": [
    "#### 函数默认参数为空"
   ]
  },
  {
   "cell_type": "code",
   "execution_count": null,
   "metadata": {},
   "outputs": [],
   "source": []
  },
  {
   "cell_type": "markdown",
   "metadata": {},
   "source": [
    "#### `{}` 和 `()`"
   ]
  },
  {
   "cell_type": "code",
   "execution_count": null,
   "metadata": {},
   "outputs": [],
   "source": []
  },
  {
   "cell_type": "markdown",
   "metadata": {},
   "source": [
    "#### 解包"
   ]
  },
  {
   "cell_type": "code",
   "execution_count": null,
   "metadata": {},
   "outputs": [],
   "source": []
  },
  {
   "cell_type": "markdown",
   "metadata": {},
   "source": [
    "#### 访问控制"
   ]
  },
  {
   "cell_type": "code",
   "execution_count": null,
   "metadata": {},
   "outputs": [],
   "source": []
  },
  {
   "cell_type": "markdown",
   "metadata": {},
   "source": [
    "#### 中括号访问"
   ]
  },
  {
   "cell_type": "code",
   "execution_count": 1,
   "metadata": {},
   "outputs": [],
   "source": [
    "class Table(object):\n",
    "    def __init__(self, df:dict):\n",
    "        self.df = df\n",
    "    def __getitem__(self, column_name):\n",
    "        return self.df[column_name]\n",
    "    \n",
    "t = Table({'ids':list(range(5)), 'name':'I love python!'.split()})"
   ]
  },
  {
   "cell_type": "code",
   "execution_count": 2,
   "metadata": {},
   "outputs": [
    {
     "name": "stdout",
     "output_type": "stream",
     "text": [
      "['I', 'love', 'python!']\n",
      "[0, 1, 2, 3, 4]\n"
     ]
    }
   ],
   "source": [
    "print(t['name'])\n",
    "print(t['ids'])"
   ]
  },
  {
   "cell_type": "markdown",
   "metadata": {},
   "source": [
    "#### 鸭子类型\n",
    "* Python 是动态语言，对函数参数的类型要求很宽松，函数体内使用此类型的方法和属性时，只要满足它们就行，不强制要求必须为这个类或子类"
   ]
  },
  {
   "cell_type": "code",
   "execution_count": 4,
   "metadata": {},
   "outputs": [
    {
     "name": "stdout",
     "output_type": "stream",
     "text": [
      "plane is flying ...\n",
      "None\n"
     ]
    }
   ],
   "source": [
    "class Plane():\n",
    "    def run(self):\n",
    "        print('plane is flying ...')\n",
    "        \n",
    "def using_run(duck):\n",
    "    print(duck.run())\n",
    "    \n",
    "using_run(Plane())"
   ]
  },
  {
   "cell_type": "code",
   "execution_count": 5,
   "metadata": {},
   "outputs": [
    {
     "name": "stdout",
     "output_type": "stream",
     "text": [
      "clock is rotating ...\n",
      "None\n"
     ]
    }
   ],
   "source": [
    "class Clock():\n",
    "    def run(self):\n",
    "        print('clock is rotating ...')\n",
    "        \n",
    "using_run(Clock())"
   ]
  },
  {
   "cell_type": "markdown",
   "metadata": {},
   "source": [
    "#### 元类\n",
    "* Python中，将描述类的类称为元类\n",
    "* Python中一切皆对象"
   ]
  },
  {
   "cell_type": "code",
   "execution_count": 6,
   "metadata": {},
   "outputs": [
    {
     "data": {
      "text/plain": [
       "__main__.Student"
      ]
     },
     "execution_count": 6,
     "metadata": {},
     "output_type": "execute_result"
    }
   ],
   "source": [
    "Student = type('Student', (), {})\n",
    "Student"
   ]
  },
  {
   "cell_type": "code",
   "execution_count": 8,
   "metadata": {},
   "outputs": [
    {
     "data": {
      "text/plain": [
       "__main__.Student"
      ]
     },
     "execution_count": 8,
     "metadata": {},
     "output_type": "execute_result"
    }
   ],
   "source": [
    "class Student():\n",
    "    pass\n",
    "Student"
   ]
  },
  {
   "cell_type": "markdown",
   "metadata": {},
   "source": [
    "#### 对象序列化"
   ]
  },
  {
   "cell_type": "code",
   "execution_count": 10,
   "metadata": {},
   "outputs": [],
   "source": [
    "class Student():\n",
    "    def __init__(self, **args):\n",
    "        self.ids = args['ids']\n",
    "        self.name = args['name']\n",
    "        self.address = args['address']\n",
    "        \n",
    "xm = Student(ids = 1, name = 'xiaoming', address = 'nanjing')\n",
    "xh = Student(ids = 2, name = 'xiaohong', address = 'beijing')\n",
    "\n",
    "import json\n",
    "with open('json.txt', 'w') as f:\n",
    "    json.dump([xm, xh], f, default = lambda obj: obj.__dict__, ensure_ascii=False, indent=2, sort_keys=True)"
   ]
  },
  {
   "cell_type": "markdown",
   "metadata": {},
   "source": [
    "#### 日志"
   ]
  },
  {
   "cell_type": "code",
   "execution_count": 14,
   "metadata": {},
   "outputs": [
    {
     "name": "stderr",
     "output_type": "stream",
     "text": [
      "2020-07-22 14:18:00,717-<ipython-input-14-3c4864bd856e>[line:30]-INFO:stu id : 10010, name : xiaoming\n",
      "2020-07-22 14:18:00,717-<ipython-input-14-3c4864bd856e>[line:30]-INFO:stu id : 10010, name : xiaoming\n",
      "2020-07-22 14:18:00,720-<ipython-input-14-3c4864bd856e>[line:40]-INFO:xiaoming score : 88\n",
      "2020-07-22 14:18:00,720-<ipython-input-14-3c4864bd856e>[line:40]-INFO:xiaoming score : 88\n",
      "2020-07-22 14:18:00,722-<ipython-input-14-3c4864bd856e>[line:30]-INFO:stu id : 001, name : xiaohong\n",
      "2020-07-22 14:18:00,722-<ipython-input-14-3c4864bd856e>[line:30]-INFO:stu id : 001, name : xiaohong\n",
      "2020-07-22 14:18:00,723-<ipython-input-14-3c4864bd856e>[line:42]-ERROR:Stu score type is <class 'float'>, not int\n",
      "2020-07-22 14:18:00,723-<ipython-input-14-3c4864bd856e>[line:42]-ERROR:Stu score type is <class 'float'>, not int\n"
     ]
    },
    {
     "ename": "TypeError",
     "evalue": "Stu score type is <class 'float'>, not int",
     "output_type": "error",
     "traceback": [
      "\u001b[1;31m---------------------------------------------------------------------------\u001b[0m",
      "\u001b[1;31mTypeError\u001b[0m                                 Traceback (most recent call last)",
      "\u001b[1;32m<ipython-input-14-3c4864bd856e>\u001b[0m in \u001b[0;36m<module>\u001b[1;34m\u001b[0m\n\u001b[0;32m     46\u001b[0m \u001b[0mxm\u001b[0m\u001b[1;33m.\u001b[0m\u001b[0mscore\u001b[0m \u001b[1;33m=\u001b[0m \u001b[1;36m88\u001b[0m\u001b[1;33m\u001b[0m\u001b[1;33m\u001b[0m\u001b[0m\n\u001b[0;32m     47\u001b[0m \u001b[0mxh\u001b[0m \u001b[1;33m=\u001b[0m \u001b[0mStudent\u001b[0m\u001b[1;33m(\u001b[0m\u001b[1;34m'001'\u001b[0m\u001b[1;33m,\u001b[0m \u001b[1;34m'xiaohong'\u001b[0m\u001b[1;33m)\u001b[0m\u001b[1;33m\u001b[0m\u001b[1;33m\u001b[0m\u001b[0m\n\u001b[1;32m---> 48\u001b[1;33m \u001b[0mxh\u001b[0m\u001b[1;33m.\u001b[0m\u001b[0mscore\u001b[0m \u001b[1;33m=\u001b[0m \u001b[1;36m90.6\u001b[0m\u001b[1;33m\u001b[0m\u001b[1;33m\u001b[0m\u001b[0m\n\u001b[0m",
      "\u001b[1;32m<ipython-input-14-3c4864bd856e>\u001b[0m in \u001b[0;36mscore\u001b[1;34m(self, score)\u001b[0m\n\u001b[0;32m     41\u001b[0m         \u001b[1;32melse\u001b[0m\u001b[1;33m:\u001b[0m\u001b[1;33m\u001b[0m\u001b[1;33m\u001b[0m\u001b[0m\n\u001b[0;32m     42\u001b[0m             \u001b[0mlog\u001b[0m\u001b[1;33m.\u001b[0m\u001b[0merror\u001b[0m\u001b[1;33m(\u001b[0m\u001b[1;34m'Stu score type is %s, not int'\u001b[0m \u001b[1;33m%\u001b[0m \u001b[1;33m(\u001b[0m\u001b[0mstr\u001b[0m\u001b[1;33m(\u001b[0m\u001b[0mtype\u001b[0m\u001b[1;33m(\u001b[0m\u001b[0mscore\u001b[0m\u001b[1;33m)\u001b[0m\u001b[1;33m)\u001b[0m\u001b[1;33m)\u001b[0m\u001b[1;33m)\u001b[0m\u001b[1;33m\u001b[0m\u001b[1;33m\u001b[0m\u001b[0m\n\u001b[1;32m---> 43\u001b[1;33m             \u001b[1;32mraise\u001b[0m \u001b[0mTypeError\u001b[0m\u001b[1;33m(\u001b[0m\u001b[1;34m'Stu score type is %s, not int'\u001b[0m \u001b[1;33m%\u001b[0m \u001b[1;33m(\u001b[0m\u001b[0mstr\u001b[0m\u001b[1;33m(\u001b[0m\u001b[0mtype\u001b[0m\u001b[1;33m(\u001b[0m\u001b[0mscore\u001b[0m\u001b[1;33m)\u001b[0m\u001b[1;33m)\u001b[0m\u001b[1;33m)\u001b[0m\u001b[1;33m)\u001b[0m\u001b[1;33m\u001b[0m\u001b[1;33m\u001b[0m\u001b[0m\n\u001b[0m\u001b[0;32m     44\u001b[0m \u001b[1;33m\u001b[0m\u001b[0m\n\u001b[0;32m     45\u001b[0m \u001b[0mxm\u001b[0m \u001b[1;33m=\u001b[0m \u001b[0mStudent\u001b[0m\u001b[1;33m(\u001b[0m\u001b[1;36m10010\u001b[0m\u001b[1;33m,\u001b[0m \u001b[1;34m'xiaoming'\u001b[0m\u001b[1;33m)\u001b[0m\u001b[1;33m\u001b[0m\u001b[1;33m\u001b[0m\u001b[0m\n",
      "\u001b[1;31mTypeError\u001b[0m: Stu score type is <class 'float'>, not int"
     ]
    }
   ],
   "source": [
    "import logging\n",
    "from logging import handlers\n",
    "\n",
    "class Logger(object):\n",
    "    kv = {\n",
    "        'debug': logging.DEBUG,\n",
    "        'info': logging.INFO,\n",
    "        'warning': logging.WARNING,\n",
    "        'error': logging.ERROR,\n",
    "        'crit': logging.CRITICAL\n",
    "    }\n",
    "    \n",
    "    def __init__(self, filename, level='info', when='D', backCount=3, fmt='%(asctime)s-%(pathname)s[line:%(lineno)d]-%(levelname)s:%(message)s'):\n",
    "        self.logger = logging.getLogger(filename)\n",
    "        format_str = logging.Formatter(fmt)\n",
    "        self.logger.setLevel(self.kv.get(level))\n",
    "        sh = logging.StreamHandler()\n",
    "        sh.setFormatter(format_str)\n",
    "        th = handlers.TimedRotatingFileHandler(filename=filename, when=when, backupCount = backCount, encoding='utf-8')\n",
    "        th.setFormatter(format_str)\n",
    "        self.logger.addHandler(sh)\n",
    "        self.logger.addHandler(th)\n",
    "        \n",
    "log = Logger('all.log', level='debug').logger\n",
    "\n",
    "class Student():\n",
    "    def __init__(self, id, name):\n",
    "        self.id = id\n",
    "        self.name = name\n",
    "        log.info('stu id : %s, name : %s' % (str(id), str(name)))\n",
    "        \n",
    "    @property\n",
    "    def score(self):\n",
    "        return self.__score\n",
    "    \n",
    "    @score.setter\n",
    "    def score(self, score):\n",
    "        if isinstance(score, int):\n",
    "            self.__score = score\n",
    "            log.info('%s score : %d' % (self.name, self.score))\n",
    "        else:\n",
    "            log.error('Stu score type is %s, not int' % (str(type(score))))\n",
    "            raise TypeError('Stu score type is %s, not int' % (str(type(score))))\n",
    "            \n",
    "xm = Student(10010, 'xiaoming')\n",
    "xm.score = 88\n",
    "xh = Student('001', 'xiaohong')\n",
    "xh.score = 90.6"
   ]
  },
  {
   "cell_type": "code",
   "execution_count": null,
   "metadata": {},
   "outputs": [],
   "source": []
  }
 ],
 "metadata": {
  "kernelspec": {
   "display_name": "Python 3",
   "language": "python",
   "name": "python3"
  },
  "language_info": {
   "codemirror_mode": {
    "name": "ipython",
    "version": 3
   },
   "file_extension": ".py",
   "mimetype": "text/x-python",
   "name": "python",
   "nbconvert_exporter": "python",
   "pygments_lexer": "ipython3",
   "version": "3.8.2"
  }
 },
 "nbformat": 4,
 "nbformat_minor": 4
}
