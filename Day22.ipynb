{
 "cells": [
  {
   "cell_type": "code",
   "execution_count": 1,
   "metadata": {},
   "outputs": [
    {
     "data": {
      "text/plain": [
       "<_MainThread(MainThread, started 8984)>"
      ]
     },
     "execution_count": 1,
     "metadata": {},
     "output_type": "execute_result"
    }
   ],
   "source": [
    "import threading\n",
    "\n",
    "t = threading.current_thread()\n",
    "t"
   ]
  },
  {
   "cell_type": "code",
   "execution_count": 2,
   "metadata": {},
   "outputs": [
    {
     "data": {
      "text/plain": [
       "'MainThread'"
      ]
     },
     "execution_count": 2,
     "metadata": {},
     "output_type": "execute_result"
    }
   ],
   "source": [
    "t.getName()"
   ]
  },
  {
   "cell_type": "code",
   "execution_count": 4,
   "metadata": {},
   "outputs": [
    {
     "data": {
      "text/plain": [
       "8984"
      ]
     },
     "execution_count": 4,
     "metadata": {},
     "output_type": "execute_result"
    }
   ],
   "source": [
    "t.ident"
   ]
  },
  {
   "cell_type": "code",
   "execution_count": 5,
   "metadata": {},
   "outputs": [
    {
     "data": {
      "text/plain": [
       "True"
      ]
     },
     "execution_count": 5,
     "metadata": {},
     "output_type": "execute_result"
    }
   ],
   "source": [
    "t.isAlive()"
   ]
  },
  {
   "cell_type": "code",
   "execution_count": 7,
   "metadata": {},
   "outputs": [],
   "source": [
    "def print_i(i):\n",
    "    print('打印i:%d，'%(i,))\n",
    "    \n",
    "my_thread = threading.Thread(name = \"my_thread\", target = print_i, args = (1,))"
   ]
  },
  {
   "cell_type": "code",
   "execution_count": 8,
   "metadata": {},
   "outputs": [
    {
     "name": "stdout",
     "output_type": "stream",
     "text": [
      "打印i:1，\n"
     ]
    }
   ],
   "source": [
    "my_thread.start()"
   ]
  },
  {
   "cell_type": "code",
   "execution_count": 11,
   "metadata": {},
   "outputs": [],
   "source": [
    "def gen_sque():\n",
    "    lst = [i for i in range(10) if lambda i: i%2 == 0]\n",
    "    return print(lst)\n",
    "\n",
    "my_td = threading.Thread(name = \"my_td\", target = gen_sque)"
   ]
  },
  {
   "cell_type": "code",
   "execution_count": 12,
   "metadata": {},
   "outputs": [
    {
     "name": "stdout",
     "output_type": "stream",
     "text": [
      "[0, 1, 2, 3, 4, 5, 6, 7, 8, 9]\n"
     ]
    }
   ],
   "source": [
    "my_td.start()"
   ]
  },
  {
   "cell_type": "code",
   "execution_count": 16,
   "metadata": {},
   "outputs": [
    {
     "data": {
      "text/plain": [
       "[None, None, None]"
      ]
     },
     "execution_count": 16,
     "metadata": {},
     "output_type": "execute_result"
    },
    {
     "name": "stdout",
     "output_type": "stream",
     "text": [
      "当前线程t0,打印结束时间为：1594344733.824197当前线程t1,打印结束时间为：1594344733.827197当前线程t2,打印结束时间为：1594344733.8311973\n",
      "\n",
      "\n",
      "当前线程t0,打印结束时间为：1594344733.9341972当前线程t2,打印结束时间为：1594344733.9341972\n",
      "\n",
      "当前线程t1,打印结束时间为：1594344733.935197\n",
      "当前线程t0,打印结束时间为：1594344734.0341973当前线程t2,打印结束时间为：1594344734.0341973\n",
      "\n",
      "当前线程t1,打印结束时间为：1594344734.0351973\n",
      "当前线程t0,打印结束时间为：1594344734.1341972当前线程t2,打印结束时间为：1594344734.1341972\n",
      "\n",
      "当前线程t1,打印结束时间为：1594344734.1351972\n",
      "当前线程t0,打印结束时间为：1594344734.2341971当前线程t2,打印结束时间为：1594344734.2341971\n",
      "\n",
      "当前线程t1,打印结束时间为：1594344734.235197\n"
     ]
    }
   ],
   "source": [
    "import time\n",
    "import threading\n",
    "\n",
    "def print_time():\n",
    "    for _ in range(5):\n",
    "        time.sleep(0.1)\n",
    "        print('当前线程%s,打印结束时间为：%s'%(threading.current_thread().getName(), time.time()))\n",
    "        \n",
    "threads = [threading.Thread(name='t%d'%(i,), target=print_time) for i in range(3)]\n",
    "[t.start() for t in threads]"
   ]
  },
  {
   "cell_type": "code",
   "execution_count": 18,
   "metadata": {},
   "outputs": [
    {
     "name": "stdout",
     "output_type": "stream",
     "text": [
      "t0 add a to 1: 1\n",
      "t1 add a to 1: 2\n",
      "t2 add a to 1: 3\n",
      "t3 add a to 1: 4\n",
      "t4 add a to 1: 5\n",
      "t5 add a to 1: 6\n",
      "t6 add a to 1: 7\n",
      "t7 add a to 1: 8\n",
      "t8 add a to 1: 9\n",
      "t9 add a to 1: 10"
     ]
    },
    {
     "data": {
      "text/plain": [
       "[None, None, None, None, None, None, None, None, None, None]"
      ]
     },
     "execution_count": 18,
     "metadata": {},
     "output_type": "execute_result"
    },
    {
     "name": "stdout",
     "output_type": "stream",
     "text": [
      "\n"
     ]
    }
   ],
   "source": [
    "## threading case 3\n",
    "## \n",
    "import threading\n",
    "\n",
    "a = 0\n",
    "\n",
    "def add1():\n",
    "    global a\n",
    "    a += 1\n",
    "    print('%s add a to 1: %d'%(threading.current_thread().getName(), a))\n",
    "    \n",
    "threads = [threading.Thread(name='t%d'%(i,), target=add1) for i in range(10)]\n",
    "[t.start() for t in threads]"
   ]
  },
  {
   "cell_type": "code",
   "execution_count": 24,
   "metadata": {},
   "outputs": [
    {
     "data": {
      "text/plain": [
       "[None, None, None, None, None, None, None, None, None, None]"
      ]
     },
     "execution_count": 24,
     "metadata": {},
     "output_type": "execute_result"
    },
    {
     "name": "stdout",
     "output_type": "stream",
     "text": [
      "t0 adds a to 1:1\n",
      "t1 adds a to 1:1\n",
      "t5 adds a to 1:1\n",
      "t3 adds a to 1:1\n",
      "t7 adds a to 1:1\n",
      "\n",
      "t4 adds a to 1:1\n",
      "\n",
      "\n",
      "\n",
      "t8 adds a to 1:1\n",
      "t6 adds a to 1:1\n",
      "\n",
      "\n",
      "t9 adds a to 1:1\n",
      "\n",
      "t2 adds a to 1:1\n",
      "\n",
      "\n",
      "\n"
     ]
    }
   ],
   "source": [
    "## threading case 4\n",
    "## resources is used by manys threading in some situation \n",
    "import threading\n",
    "import time\n",
    "\n",
    "a = 0\n",
    "\n",
    "def add1():\n",
    "    global a\n",
    "    tmp = a + 1\n",
    "    time.sleep(0.2)\n",
    "    a = tmp\n",
    "    print('%s adds a to 1:%d\\n'%(threading.current_thread().getName(), a))\n",
    "    \n",
    "threads = [threading.Thread(name='t%d'%(i,), target=add1) for i in range(10)]\n",
    "[t.start() for t in threads]"
   ]
  },
  {
   "cell_type": "code",
   "execution_count": 28,
   "metadata": {},
   "outputs": [
    {
     "data": {
      "text/plain": [
       "[None, None, None, None, None, None, None, None, None, None]"
      ]
     },
     "execution_count": 28,
     "metadata": {},
     "output_type": "execute_result"
    },
    {
     "name": "stdout",
     "output_type": "stream",
     "text": [
      "t0 adds a to 1:1\n",
      "\n",
      "t1 adds a to 1:2\n",
      "\n",
      "t2 adds a to 1:3\n",
      "\n",
      "t3 adds a to 1:4\n",
      "\n",
      "t4 adds a to 1:5\n",
      "\n",
      "t5 adds a to 1:6\n",
      "\n",
      "t6 adds a to 1:7\n",
      "\n",
      "t7 adds a to 1:8\n",
      "\n",
      "t8 adds a to 1:9\n",
      "\n",
      "t9 adds a to 1:10\n",
      "\n"
     ]
    }
   ],
   "source": [
    "## threading case 5\n",
    "## lock mechanism\n",
    "import threading\n",
    "import time\n",
    "\n",
    "# creat lock\n",
    "locka = threading.Lock()\n",
    "\n",
    "a = 0\n",
    "\n",
    "def add1():\n",
    "    global a\n",
    "    try:\n",
    "        locka.acquire()\n",
    "        tmp = a + 1\n",
    "        time.sleep(0.2)\n",
    "        a = tmp\n",
    "    finally:\n",
    "        locka.release()\n",
    "    print('%s adds a to 1:%d\\n'%(threading.current_thread().getName(), a))\n",
    "    \n",
    "threads = [threading.Thread(name='t%d'%(i,), target=add1) for i in range(10)]\n",
    "[t.start() for t in threads]"
   ]
  },
  {
   "cell_type": "code",
   "execution_count": 32,
   "metadata": {},
   "outputs": [
    {
     "name": "stdout",
     "output_type": "stream",
     "text": [
      "response 1 from A\n",
      "B is analysising data from A\n",
      "reveive x from B\n",
      "do some complex process for A during 200ms\n",
      "response 2 from A\n",
      "B is analysising data from A\n",
      "reveive y from B\n",
      "do some complex process for A during 200ms\n",
      "response 3 from A\n",
      "B is analysising data from A\n",
      "reveive z from B\n",
      "do some complex process for A during 200ms\n",
      "---from a done---\n"
     ]
    }
   ],
   "source": [
    "##\n",
    "def A():\n",
    "    a_list = ['1', '2', '3']\n",
    "    for to_b in a_list:\n",
    "        from_b = yield to_b\n",
    "        print('reveive %s from B' %(from_b,))\n",
    "        print('do some complex process for A during 200ms')\n",
    "        \n",
    "def B(a):\n",
    "    from_a = a.send(None)\n",
    "    print('response %s from A'%(from_a,))\n",
    "    print('B is analysising data from A')\n",
    "    b_list = ['x', 'y', 'z']\n",
    "    try:\n",
    "        for to_a in b_list:\n",
    "            from_a = a.send(to_a)\n",
    "            print('response %s from A' %(from_a,))\n",
    "            print('B is analysising data from A')\n",
    "    except StopIteration:\n",
    "            print('---from a done---')\n",
    "    finally:\n",
    "            a.close()\n",
    "            \n",
    "a = A()\n",
    "B(a)"
   ]
  },
  {
   "cell_type": "code",
   "execution_count": 34,
   "metadata": {},
   "outputs": [],
   "source": [
    "a = [1,2,3,5]"
   ]
  },
  {
   "cell_type": "code",
   "execution_count": 35,
   "metadata": {},
   "outputs": [],
   "source": [
    "itera = iter(a)"
   ]
  },
  {
   "cell_type": "code",
   "execution_count": 36,
   "metadata": {},
   "outputs": [
    {
     "name": "stdout",
     "output_type": "stream",
     "text": [
      "1\n",
      "2\n",
      "3\n",
      "5\n",
      "1\n",
      "2\n",
      "3\n",
      "5\n"
     ]
    }
   ],
   "source": [
    "def bl(obj):\n",
    "    for i in obj:\n",
    "        print(i)\n",
    "        \n",
    "bl(a)\n",
    "bl(itera)"
   ]
  },
  {
   "cell_type": "code",
   "execution_count": 37,
   "metadata": {},
   "outputs": [
    {
     "name": "stdout",
     "output_type": "stream",
     "text": [
      "1\n",
      "2\n",
      "3\n",
      "5\n"
     ]
    }
   ],
   "source": [
    "bl(a)\n",
    "bl(itera)"
   ]
  },
  {
   "cell_type": "code",
   "execution_count": 38,
   "metadata": {},
   "outputs": [
    {
     "name": "stdout",
     "output_type": "stream",
     "text": [
      "1\n",
      "2\n",
      "3\n",
      "5\n"
     ]
    }
   ],
   "source": [
    "bl(a)"
   ]
  },
  {
   "cell_type": "code",
   "execution_count": 39,
   "metadata": {},
   "outputs": [],
   "source": [
    "bl(itera)"
   ]
  },
  {
   "cell_type": "code",
   "execution_count": null,
   "metadata": {},
   "outputs": [],
   "source": []
  }
 ],
 "metadata": {
  "kernelspec": {
   "display_name": "Python 3",
   "language": "python",
   "name": "python3"
  },
  "language_info": {
   "codemirror_mode": {
    "name": "ipython",
    "version": 3
   },
   "file_extension": ".py",
   "mimetype": "text/x-python",
   "name": "python",
   "nbconvert_exporter": "python",
   "pygments_lexer": "ipython3",
   "version": "3.8.4"
  }
 },
 "nbformat": 4,
 "nbformat_minor": 4
}
