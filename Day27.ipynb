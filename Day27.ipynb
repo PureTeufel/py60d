{
 "cells": [
  {
   "cell_type": "code",
   "execution_count": 4,
   "metadata": {},
   "outputs": [
    {
     "data": {
      "text/plain": [
       "Person(id=3.19, age='xiaoming', height='', name='', address='', province='', city='', town='', country='', birth_address='')"
      ]
     },
     "execution_count": 4,
     "metadata": {},
     "output_type": "execute_result"
    }
   ],
   "source": [
    "'''\n",
    "collections module\n",
    "'''\n",
    "\n",
    "## NamedTuple\n",
    "\n",
    "from collections import namedtuple\n",
    "Person = namedtuple('Person', ['id','age','height','name','address','province','city','town','country','birth_address'])\n",
    "a = ['']*8\n",
    "Person(3.19,'xiaoming',*a)"
   ]
  },
  {
   "cell_type": "code",
   "execution_count": 5,
   "metadata": {},
   "outputs": [],
   "source": [
    "def update_persons_info(old_data, new_data):\n",
    "    changed_list = []\n",
    "    for line in new_data:\n",
    "        new_props = line.split()\n",
    "        new_person = Person(new_props)\n",
    "        for old in old_data:\n",
    "            old_props = line.split()\n",
    "            old_person = Person(old_props)\n",
    "            if old_person.id != new_person.id:\n",
    "                changed_list.append(old_person.id)\n",
    "            elif old_person.address != new_person.address:\n",
    "                changed_list.append(old_person.address)\n",
    "            elif old_person.birth_address != new_person.address:\n",
    "                changed_list.append(old_person.birth_address)\n",
    "    return changed_list"
   ]
  },
  {
   "cell_type": "code",
   "execution_count": 6,
   "metadata": {},
   "outputs": [
    {
     "name": "stdout",
     "output_type": "stream",
     "text": [
      "{3: 5, 1: 4, 7: 3, 0: 2, 8: 1, 10: 1, 6: 1, 2: 1, 9: 1, 5: 1}\n"
     ]
    }
   ],
   "source": [
    "## Counter\n",
    "sku_purchase = [3,8,3,10,3,3,1,3,7,6,1,2,7,0,7,9,1,5,1,0]\n",
    "\n",
    "d = {}\n",
    "for i in sku_purchase:\n",
    "    if d.get(i) is None:\n",
    "        d[i] = 1\n",
    "    else:\n",
    "        d[i] += 1\n",
    "        \n",
    "d_most = dict(sorted(d.items(), key=lambda item: item[1], reverse = True))\n",
    "print(d_most)"
   ]
  },
  {
   "cell_type": "code",
   "execution_count": 7,
   "metadata": {},
   "outputs": [
    {
     "data": {
      "text/plain": [
       "[(3, 5),\n",
       " (1, 4),\n",
       " (7, 3),\n",
       " (0, 2),\n",
       " (8, 1),\n",
       " (10, 1),\n",
       " (6, 1),\n",
       " (2, 1),\n",
       " (9, 1),\n",
       " (5, 1)]"
      ]
     },
     "execution_count": 7,
     "metadata": {},
     "output_type": "execute_result"
    }
   ],
   "source": [
    "# example 1\n",
    "from collections import Counter\n",
    "Counter(sku_purchase).most_common()"
   ]
  },
  {
   "cell_type": "code",
   "execution_count": 8,
   "metadata": {},
   "outputs": [
    {
     "data": {
      "text/plain": [
       "[(' ', 4),\n",
       " ('o', 3),\n",
       " ('h', 2),\n",
       " ('I', 1),\n",
       " ('l', 1),\n",
       " ('v', 1),\n",
       " ('e', 1),\n",
       " ('p', 1),\n",
       " ('y', 1),\n",
       " ('t', 1),\n",
       " ('n', 1),\n",
       " ('s', 1),\n",
       " ('m', 1),\n",
       " ('u', 1),\n",
       " ('c', 1)]"
      ]
     },
     "execution_count": 8,
     "metadata": {},
     "output_type": "execute_result"
    }
   ],
   "source": [
    "# example 2\n",
    "Counter('I love python so much').most_common()"
   ]
  },
  {
   "cell_type": "code",
   "execution_count": 9,
   "metadata": {},
   "outputs": [
    {
     "data": {
      "text/plain": [
       "defaultdict(list, {})"
      ]
     },
     "execution_count": 9,
     "metadata": {},
     "output_type": "execute_result"
    }
   ],
   "source": [
    "## DefaultDict\n",
    "# example 1\n",
    "from collections import defaultdict\n",
    "d = defaultdict(int)\n",
    "d = defaultdict(list)\n",
    "d"
   ]
  },
  {
   "cell_type": "code",
   "execution_count": 10,
   "metadata": {},
   "outputs": [
    {
     "name": "stdout",
     "output_type": "stream",
     "text": [
      "defaultdict(<class 'list'>, {'f': [0, 26], 'r': [1, 21], 'o': [2, 6, 13, 20], 'm': [3, 18], ' ': [4, 16, 23], 'c': [5, 10, 33], 'l': [7, 8, 29], 'e': [9, 25], 't': [11, 22, 30, 34], 'i': [12, 17, 32], 'n': [14], 's': [15], 'p': [19], 'd': [24, 31], 'a': [27], 'u': [28]})\n"
     ]
    }
   ],
   "source": [
    "# example 2\n",
    "d = defaultdict(list)\n",
    "s = 'from collections import defaultdict'\n",
    "for index,i in enumerate(s):\n",
    "    d[i].append(index)\n",
    "print(d)"
   ]
  },
  {
   "cell_type": "code",
   "execution_count": 13,
   "metadata": {},
   "outputs": [],
   "source": [
    "# example 3\n",
    "from collections import defaultdict\n",
    "\n",
    "def is_permutation(str1, str2):\n",
    "    if str1 is None or str2 is None:\n",
    "        return False\n",
    "    if len(str1) != len(str2):\n",
    "        return False\n",
    "    unq_s1 = defaultdict(int)\n",
    "    unq_s2 = defaultdict(int)\n",
    "    for c1 in str1:\n",
    "        unq_s1[c1] += 1\n",
    "    for c2 in str2:\n",
    "        unq_s2[c2] += 1\n",
    "    \n",
    "    return unq_s1 == unq_s2"
   ]
  },
  {
   "cell_type": "code",
   "execution_count": 15,
   "metadata": {},
   "outputs": [
    {
     "data": {
      "text/plain": [
       "True"
      ]
     },
     "execution_count": 15,
     "metadata": {},
     "output_type": "execute_result"
    }
   ],
   "source": [
    "r = is_permutation('nice', 'cine')\n",
    "r"
   ]
  },
  {
   "cell_type": "code",
   "execution_count": 17,
   "metadata": {},
   "outputs": [
    {
     "data": {
      "text/plain": [
       "False"
      ]
     },
     "execution_count": 17,
     "metadata": {},
     "output_type": "execute_result"
    }
   ],
   "source": [
    "r = is_permutation('nice', 'name')\n",
    "r"
   ]
  },
  {
   "cell_type": "code",
   "execution_count": 20,
   "metadata": {},
   "outputs": [
    {
     "name": "stdout",
     "output_type": "stream",
     "text": [
      "[('Python', 10), ('and', 6), ('I', 3), ('just', 3), ('love', 3), ('so', 3), ('much', 3), ('want', 3), ('to', 3), ('get', 3), ('the', 3), ('whole', 3), ('stack', 3), ('by', 3), ('this', 3), ('60', 3), ('days', 3), ('column', 3), ('believe', 3), ('Hey', 1)]\n"
     ]
    }
   ],
   "source": [
    "# example 4\n",
    "from collections import Counter, defaultdict\n",
    "import re\n",
    "\n",
    "def python_read(filename):\n",
    "    with open(filename, 'r', encoding='utf-8') as f:\n",
    "        for line in f:\n",
    "            yield line\n",
    "        \n",
    "d = defaultdict(int)\n",
    "\n",
    "def process(line):\n",
    "    for word in re.sub('\\W+', ' ', line).split():\n",
    "        d[word] += 1\n",
    "        \n",
    "for line in python_read('b.txt'):\n",
    "    process(line)\n",
    "    \n",
    "frequency = Counter(d).most_common()\n",
    "print(frequency)"
   ]
  },
  {
   "cell_type": "code",
   "execution_count": null,
   "metadata": {},
   "outputs": [],
   "source": []
  }
 ],
 "metadata": {
  "kernelspec": {
   "display_name": "Python 3",
   "language": "python",
   "name": "python3"
  },
  "language_info": {
   "codemirror_mode": {
    "name": "ipython",
    "version": 3
   },
   "file_extension": ".py",
   "mimetype": "text/x-python",
   "name": "python",
   "nbconvert_exporter": "python",
   "pygments_lexer": "ipython3",
   "version": "3.8.2"
  }
 },
 "nbformat": 4,
 "nbformat_minor": 4
}
