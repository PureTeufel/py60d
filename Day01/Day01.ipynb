{
 "cells": [
  {
   "cell_type": "markdown",
   "metadata": {},
   "source": [
    "## Python 两大特性和四大基本语法"
   ]
  },
  {
   "cell_type": "markdown",
   "metadata": {},
   "source": [
    "#### Python 语言的两大特性\n",
    "* 动态语言\n",
    "    * 类型检查是验证类型约束的过程，编译器或解释器通常在编译阶段或运行阶段做类型检查\n",
    "    * 如果类型检查发生在程序运行阶段（run time），那么它便是*动态类型语言（dynamically typed languages）*\n",
    "    * 如果类型检查发生在编译阶段（compile time），那么它便是*静态类型语言（statically typed languages）*\n",
    "* 强类型语言\n",
    "    * 强类型语言是指：不管在编译阶段还是运行阶段，一旦某种类型绑定到变量后，此变量便会持有此类型，并且不能同其它类型在计算表示式时，混合使用"
   ]
  },
  {
   "cell_type": "markdown",
   "metadata": {},
   "source": [
    "###### 不同类型语言的比较\n",
    "![象限比较法](./D01.png)"
   ]
  },
  {
   "cell_type": "code",
   "execution_count": 1,
   "metadata": {},
   "outputs": [
    {
     "ename": "TypeError",
     "evalue": "unsupported operand type(s) for +: 'int' and 'str'",
     "output_type": "error",
     "traceback": [
      "\u001b[1;31m---------------------------------------------------------------------------\u001b[0m",
      "\u001b[1;31mTypeError\u001b[0m                                 Traceback (most recent call last)",
      "\u001b[1;32m<ipython-input-1-f7efab7d1a0f>\u001b[0m in \u001b[0;36m<module>\u001b[1;34m\u001b[0m\n\u001b[0;32m      1\u001b[0m \u001b[1;31m# 强类型语言 举例1\u001b[0m\u001b[1;33m\u001b[0m\u001b[1;33m\u001b[0m\u001b[1;33m\u001b[0m\u001b[0m\n\u001b[0;32m      2\u001b[0m \u001b[0ma\u001b[0m \u001b[1;33m=\u001b[0m \u001b[1;36m5\u001b[0m\u001b[1;33m\u001b[0m\u001b[1;33m\u001b[0m\u001b[0m\n\u001b[1;32m----> 3\u001b[1;33m \u001b[0ma\u001b[0m \u001b[1;33m=\u001b[0m \u001b[0ma\u001b[0m \u001b[1;33m+\u001b[0m \u001b[1;34m's'\u001b[0m\u001b[1;33m\u001b[0m\u001b[1;33m\u001b[0m\u001b[0m\n\u001b[0m",
      "\u001b[1;31mTypeError\u001b[0m: unsupported operand type(s) for +: 'int' and 'str'"
     ]
    }
   ],
   "source": [
    "## ---> 强类型语言 举例1 --- 不同类型相加，会抛出异常\n",
    "a = 5\n",
    "a = a + 's'"
   ]
  },
  {
   "cell_type": "markdown",
   "metadata": {},
   "source": [
    "#### 四大基本语法"
   ]
  },
  {
   "cell_type": "markdown",
   "metadata": {},
   "source": [
    "*__命名规则__*\n",
    "    * 允许包含英文、数字以及下划线，不能以数字开头\n",
    "    * 名称区分大小写\n",
    "    > 特别说明以“下划线”开头的变量是有特殊意义的：\n",
    "    > * 类变量若以单下划线（`_`）开头，代表不能直接被访问，类似与C#的受保护型变量，表示不能通过 `import module_name` 导入\n",
    "    > * 类变量若以双下划线（`__`）开头，表示为类的私有成员，不能被导入和其它类变量访问\n",
    "    > * 以双下划线开头和双下划线结尾的变量是Python里的专用标识，有特殊的身份\n",
    "    \n",
    "    \n",
    "    Python 变量命名习惯一般遵守蛇形命名法（snake case）:\n",
    "    * 一般变量名，如book_id, book_store_count\n",
    "    * 类名首字符大写"
   ]
  },
  {
   "cell_type": "markdown",
   "metadata": {},
   "source": [
    "*__缩进规则__*\n",
    "    * Python 最具特色的地方就是用缩进代替java、C++中的`{}`，缩进的层级结构表示代码的逻辑层次\n",
    "    * Python 的缩进方法，一般为4个字符"
   ]
  },
  {
   "cell_type": "code",
   "execution_count": 10,
   "metadata": {},
   "outputs": [
    {
     "name": "stdout",
     "output_type": "stream",
     "text": [
      "300\n"
     ]
    }
   ],
   "source": [
    "## ---> 缩进示例  \n",
    "class Book(object):\n",
    "    \n",
    "    def __init__(self, book_id, book_name, book_store_count):\n",
    "        self.book_id = book_id\n",
    "        self.book_name = book_name\n",
    "        self.book_store_count = book_store_count\n",
    "        \n",
    "    def __add__(self, book):\n",
    "        return self.book_store_count + book.book_store_count\n",
    "    \n",
    "# 创建两个Book类的实例\n",
    "python_intro_book = Book(1, 'Python 入门书', 100)\n",
    "ml_intro_book = Book(2, '机器学习入门书', 200)\n",
    "\n",
    "# 求两本书的总销量\n",
    "sales_cnt = python_intro_book + ml_intro_book\n",
    "print(sales_cnt)"
   ]
  },
  {
   "cell_type": "markdown",
   "metadata": {},
   "source": [
    "*__特殊关键字__*\n",
    "* 35 个特殊关键字\n",
    "\n",
    "\n",
    "| 1 | 2 | 3 | 4 | 5 | 6 | 7 | \n",
    "|---|---|---|---|---|---|---|\n",
    "| False | True | None | and | or | not | if |\n",
    "| else  | elif | for | yield | raise | try | except |\n",
    "| while | return | continue | break | finally | pass | with |       \n",
    "| as | in | is | lambda | class | def | import | \n",
    "|from | assert | async | await | global | nonlocal | del |\n",
    "\n",
    "\n",
    "* 比较特殊的关键字\n",
    "    * `del` 用于删除可迭代对象中某个元素\n",
    "    * `def` 用于定义函数\n",
    "    * `yield` 用于定义生成器(generator)函数\n",
    "    * `global` 和 `nonlocal` 用于Python函数式编程的闭包环境\n",
    "    * `pass` 一种应用是定义一个接口，也是python语言特有的一个关键字"
   ]
  },
  {
   "cell_type": "markdown",
   "metadata": {},
   "source": [
    "*__特殊运算符__*\n",
    "* python 的运算符包括:\n",
    "    \n",
    "    \n",
    "| 1 | 2 | 3 | 4 | 5 | 6 | 7 |\n",
    "| - | - | - | - | - | - | - |\n",
    "| + | - | * | ** | / | // | % |\n",
    "| @ | << | >> | & | \\| | \\^ | ~ |\n",
    "| := | < | > | <= | >= | == | != |\n",
    "\n",
    "\n",
    "* 3个比较特殊的运算符：\n",
    "    * `//` 用于向下取整\n",
    "    * `**` 用于幂运算\n",
    "    * `:=` \"海象运算符\""
   ]
  },
  {
   "cell_type": "code",
   "execution_count": 7,
   "metadata": {},
   "outputs": [
    {
     "name": "stdout",
     "output_type": "stream",
     "text": [
      "2\n",
      "1.0\n"
     ]
    }
   ],
   "source": [
    "## ---> //\n",
    "print(5 // 2)\n",
    "print(5 // 4.5)"
   ]
  },
  {
   "cell_type": "code",
   "execution_count": 9,
   "metadata": {},
   "outputs": [
    {
     "name": "stdout",
     "output_type": "stream",
     "text": [
      "8\n",
      "16\n"
     ]
    }
   ],
   "source": [
    "## ---> **\n",
    "print(2**3)\n",
    "print(4**2)"
   ]
  },
  {
   "cell_type": "code",
   "execution_count": 11,
   "metadata": {},
   "outputs": [
    {
     "name": "stdout",
     "output_type": "stream",
     "text": [
      "13大于10\n",
      "13大于10\n"
     ]
    }
   ],
   "source": [
    "## ---> :=\n",
    "a = 'hello, python'\n",
    "\n",
    "n = len(a)\n",
    "if n > 10:\n",
    "    print(f\"{n}大于10\")\n",
    "    \n",
    "    \n",
    "if (n := len(a)) > 10:\n",
    "    print(f\"{n}大于10\")"
   ]
  },
  {
   "cell_type": "code",
   "execution_count": null,
   "metadata": {},
   "outputs": [],
   "source": []
  }
 ],
 "metadata": {
  "kernelspec": {
   "display_name": "Python 3",
   "language": "python",
   "name": "python3"
  },
  "language_info": {
   "codemirror_mode": {
    "name": "ipython",
    "version": 3
   },
   "file_extension": ".py",
   "mimetype": "text/x-python",
   "name": "python",
   "nbconvert_exporter": "python",
   "pygments_lexer": "ipython3",
   "version": "3.8.2"
  }
 },
 "nbformat": 4,
 "nbformat_minor": 4
}
