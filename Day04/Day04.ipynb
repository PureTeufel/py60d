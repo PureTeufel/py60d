{
 "cells": [
  {
   "cell_type": "code",
   "execution_count": 3,
   "metadata": {},
   "outputs": [],
   "source": [
    "def is_duplicated(lst):\n",
    "    for x in lst:\n",
    "        if lst.count(x) > 1:\n",
    "            return True\n",
    "    return False"
   ]
  },
  {
   "cell_type": "code",
   "execution_count": 4,
   "metadata": {},
   "outputs": [],
   "source": [
    "a = [1, -2, 3, 4, 1, 2]"
   ]
  },
  {
   "cell_type": "code",
   "execution_count": 7,
   "metadata": {},
   "outputs": [
    {
     "data": {
      "text/plain": [
       "True"
      ]
     },
     "execution_count": 7,
     "metadata": {},
     "output_type": "execute_result"
    }
   ],
   "source": [
    "is_duplicated(a)"
   ]
  },
  {
   "cell_type": "code",
   "execution_count": 9,
   "metadata": {},
   "outputs": [],
   "source": [
    "def is_duplicated(lst):\n",
    "    return len(lst) != len(set(lst))"
   ]
  },
  {
   "cell_type": "code",
   "execution_count": 12,
   "metadata": {},
   "outputs": [
    {
     "data": {
      "text/plain": [
       "True"
      ]
     },
     "execution_count": 12,
     "metadata": {},
     "output_type": "execute_result"
    }
   ],
   "source": [
    "is_duplicated(a)"
   ]
  },
  {
   "cell_type": "code",
   "execution_count": 18,
   "metadata": {},
   "outputs": [
    {
     "data": {
      "text/plain": [
       "{-2, 1, 2, 3, 4}"
      ]
     },
     "execution_count": 18,
     "metadata": {},
     "output_type": "execute_result"
    }
   ],
   "source": [
    "b = set(a)\n",
    "b"
   ]
  },
  {
   "cell_type": "code",
   "execution_count": 21,
   "metadata": {},
   "outputs": [
    {
     "data": {
      "text/plain": [
       "set"
      ]
     },
     "execution_count": 21,
     "metadata": {},
     "output_type": "execute_result"
    }
   ],
   "source": [
    "type(b)"
   ]
  },
  {
   "cell_type": "code",
   "execution_count": 24,
   "metadata": {},
   "outputs": [
    {
     "data": {
      "text/plain": [
       "[2, 1, 4, 3, -2, 1]"
      ]
     },
     "execution_count": 24,
     "metadata": {},
     "output_type": "execute_result"
    }
   ],
   "source": [
    "a[::-1]"
   ]
  },
  {
   "cell_type": "code",
   "execution_count": 26,
   "metadata": {},
   "outputs": [
    {
     "data": {
      "text/plain": [
       "-2"
      ]
     },
     "execution_count": 26,
     "metadata": {},
     "output_type": "execute_result"
    }
   ],
   "source": [
    "a[1]"
   ]
  },
  {
   "cell_type": "code",
   "execution_count": 29,
   "metadata": {},
   "outputs": [
    {
     "data": {
      "text/plain": [
       "[2, 1, 4, 3, -2, 1]"
      ]
     },
     "execution_count": 29,
     "metadata": {},
     "output_type": "execute_result"
    }
   ],
   "source": [
    "c = a[::-1]\n",
    "c"
   ]
  },
  {
   "cell_type": "code",
   "execution_count": 32,
   "metadata": {},
   "outputs": [
    {
     "data": {
      "text/plain": [
       "1"
      ]
     },
     "execution_count": 32,
     "metadata": {},
     "output_type": "execute_result"
    }
   ],
   "source": [
    "c[1]"
   ]
  },
  {
   "cell_type": "code",
   "execution_count": 35,
   "metadata": {},
   "outputs": [
    {
     "data": {
      "text/plain": [
       "2"
      ]
     },
     "execution_count": 35,
     "metadata": {},
     "output_type": "execute_result"
    }
   ],
   "source": [
    "a[-1]"
   ]
  },
  {
   "cell_type": "code",
   "execution_count": 37,
   "metadata": {},
   "outputs": [
    {
     "data": {
      "text/plain": [
       "1"
      ]
     },
     "execution_count": 37,
     "metadata": {},
     "output_type": "execute_result"
    }
   ],
   "source": [
    "a[-2]"
   ]
  },
  {
   "cell_type": "code",
   "execution_count": 64,
   "metadata": {},
   "outputs": [],
   "source": [
    "def find_duplicated(lst):\n",
    "    ret = []\n",
    "    for x in lst: \n",
    "        if lst.count(x) > 1 and x not in ret:\n",
    "            ret.append(x)\n",
    "    return ret"
   ]
  },
  {
   "cell_type": "code",
   "execution_count": 65,
   "metadata": {},
   "outputs": [
    {
     "data": {
      "text/plain": [
       "[1]"
      ]
     },
     "execution_count": 65,
     "metadata": {},
     "output_type": "execute_result"
    }
   ],
   "source": [
    "d = find_duplicated(a)\n",
    "d"
   ]
  },
  {
   "cell_type": "code",
   "execution_count": 68,
   "metadata": {},
   "outputs": [
    {
     "data": {
      "text/plain": [
       "[2, 3]"
      ]
     },
     "execution_count": 68,
     "metadata": {},
     "output_type": "execute_result"
    }
   ],
   "source": [
    "r = find_duplicated([1, 2, 3, 4, 3, 2])\n",
    "r"
   ]
  },
  {
   "cell_type": "code",
   "execution_count": 72,
   "metadata": {},
   "outputs": [],
   "source": [
    "def fibonacci(n):\n",
    "    if n <= 1:\n",
    "        return [1]\n",
    "    fib = [1, 1]\n",
    "    while len(fib) < n:\n",
    "        fib.append(fib[len(fib)-1]+fib[len(fib)-2])\n",
    "    return fib"
   ]
  },
  {
   "cell_type": "code",
   "execution_count": 77,
   "metadata": {},
   "outputs": [
    {
     "data": {
      "text/plain": [
       "[1,\n",
       " 1,\n",
       " 2,\n",
       " 3,\n",
       " 5,\n",
       " 8,\n",
       " 13,\n",
       " 21,\n",
       " 34,\n",
       " 55,\n",
       " 89,\n",
       " 144,\n",
       " 233,\n",
       " 377,\n",
       " 610,\n",
       " 987,\n",
       " 1597,\n",
       " 2584,\n",
       " 4181,\n",
       " 6765]"
      ]
     },
     "execution_count": 77,
     "metadata": {},
     "output_type": "execute_result"
    }
   ],
   "source": [
    "f = fibonacci(20)\n",
    "f"
   ]
  },
  {
   "cell_type": "code",
   "execution_count": 84,
   "metadata": {},
   "outputs": [],
   "source": [
    "def fibonacci(n):\n",
    "    a, b = 1, 1\n",
    "    for _ in range(n):\n",
    "        a, b = b, a+b\n",
    "m = fibonacci(10)\n",
    "m"
   ]
  },
  {
   "cell_type": "code",
   "execution_count": 85,
   "metadata": {},
   "outputs": [],
   "source": [
    "def fibonacci(n):\n",
    "    a, b = 1, 1\n",
    "    for _ in range(n):\n",
    "        yield a\n",
    "        a, b = b, a+b"
   ]
  },
  {
   "cell_type": "code",
   "execution_count": 2,
   "metadata": {},
   "outputs": [],
   "source": [
    "def mode(lst):\n",
    "    if not lst:\n",
    "        return None\n",
    "    return max(lst, key=lambda v: lst.count(v))"
   ]
  },
  {
   "cell_type": "code",
   "execution_count": 3,
   "metadata": {},
   "outputs": [
    {
     "name": "stdout",
     "output_type": "stream",
     "text": [
      "3\n"
     ]
    }
   ],
   "source": [
    "lst = [1, 3, 3, 3, 3, 2, 1, 1, 2]\n",
    "r = mode(lst)\n",
    "print(r)"
   ]
  },
  {
   "cell_type": "code",
   "execution_count": 1,
   "metadata": {},
   "outputs": [],
   "source": [
    "def max_len(*lists):\n",
    "    return max(*lists, key=lambda v:len(v))"
   ]
  },
  {
   "cell_type": "code",
   "execution_count": 2,
   "metadata": {},
   "outputs": [
    {
     "name": "stdout",
     "output_type": "stream",
     "text": [
      "更长的列表是[4, 5, 6, 7]\n"
     ]
    }
   ],
   "source": [
    "r = max_len([1, 2, 3], [4, 5, 6, 7], [8])\n",
    "print(f'更长的列表是{r}')"
   ]
  },
  {
   "cell_type": "code",
   "execution_count": 3,
   "metadata": {},
   "outputs": [
    {
     "name": "stdout",
     "output_type": "stream",
     "text": [
      "\n",
      "Help on NoneType object:\n",
      "\n",
      "class NoneType(object)\n",
      " |  Methods defined here:\n",
      " |  \n",
      " |  __bool__(self, /)\n",
      " |      self != 0\n",
      " |  \n",
      " |  __repr__(self, /)\n",
      " |      Return repr(self).\n",
      " |  \n",
      " |  ----------------------------------------------------------------------\n",
      " |  Static methods defined here:\n",
      " |  \n",
      " |  __new__(*args, **kwargs) from builtins.type\n",
      " |      Create and return a new object.  See help(type) for accurate signature.\n",
      "\n"
     ]
    }
   ],
   "source": [
    "help(print())"
   ]
  },
  {
   "cell_type": "code",
   "execution_count": 13,
   "metadata": {},
   "outputs": [],
   "source": [
    "def head(lst):\n",
    "    '''\n",
    "    if lst == []:\n",
    "        return None\n",
    "    '''\n",
    "    return lst[0] if len(lst) > 0 else None "
   ]
  },
  {
   "cell_type": "code",
   "execution_count": 14,
   "metadata": {},
   "outputs": [
    {
     "name": "stdout",
     "output_type": "stream",
     "text": [
      "None\n",
      "0\n"
     ]
    }
   ],
   "source": [
    "a = [1, 2, 3, 4]\n",
    "head(a)\n",
    "b = []\n",
    "print(head(b))\n",
    "print(len(b))"
   ]
  },
  {
   "cell_type": "code",
   "execution_count": 22,
   "metadata": {},
   "outputs": [
    {
     "name": "stdout",
     "output_type": "stream",
     "text": [
      "1*1=1\t\n",
      "1*2=2\t2*2=4\t\n",
      "1*3=3\t2*3=6\t3*3=9\t\n",
      "1*4=4\t2*4=8\t3*4=12\t4*4=16\t\n",
      "1*5=5\t2*5=10\t3*5=15\t4*5=20\t5*5=25\t\n",
      "1*6=6\t2*6=12\t3*6=18\t4*6=24\t5*6=30\t6*6=36\t\n",
      "1*7=7\t2*7=14\t3*7=21\t4*7=28\t5*7=35\t6*7=42\t7*7=49\t\n",
      "1*8=8\t2*8=16\t3*8=24\t4*8=32\t5*8=40\t6*8=48\t7*8=56\t8*8=64\t\n",
      "1*9=9\t2*9=18\t3*9=27\t4*9=36\t5*9=45\t6*9=54\t7*9=63\t8*9=72\t9*9=81\t\n"
     ]
    }
   ],
   "source": [
    "def mul_table():\n",
    "    for i in range(1, 10):\n",
    "        for j in range(1, i+1):\n",
    "            print(str(j)+str(\"*\")+str(i)+\"=\"+str(i*j), end=\"\\t\")\n",
    "        print()\n",
    "            \n",
    "mul_table()"
   ]
  },
  {
   "cell_type": "code",
   "execution_count": 24,
   "metadata": {},
   "outputs": [
    {
     "data": {
      "text/plain": [
       "[(1, 4), (2, 5), (3, 6)]"
      ]
     },
     "execution_count": 24,
     "metadata": {},
     "output_type": "execute_result"
    }
   ],
   "source": [
    "list(zip([1,2,3],[4,5,6]))"
   ]
  },
  {
   "cell_type": "code",
   "execution_count": 26,
   "metadata": {},
   "outputs": [],
   "source": [
    "def pair(t):\n",
    "    return list(zip(t[:-1],t[1:]))"
   ]
  },
  {
   "cell_type": "code",
   "execution_count": 28,
   "metadata": {},
   "outputs": [
    {
     "data": {
      "text/plain": [
       "[(4, 5), (5, 6)]"
      ]
     },
     "execution_count": 28,
     "metadata": {},
     "output_type": "execute_result"
    }
   ],
   "source": [
    "pair([4,5,6])"
   ]
  },
  {
   "cell_type": "code",
   "execution_count": 30,
   "metadata": {},
   "outputs": [
    {
     "name": "stdout",
     "output_type": "stream",
     "text": [
      "range(0, 10)\n"
     ]
    }
   ],
   "source": [
    "print(range(10))"
   ]
  },
  {
   "cell_type": "code",
   "execution_count": 37,
   "metadata": {},
   "outputs": [
    {
     "name": "stdout",
     "output_type": "stream",
     "text": [
      "[1, 2, 3, 4, 5, 6, 7, 8, 9, 10, 11, 12, 13, 14, 15, 16, 17, 18, 19, 20, 21, 22, 23, 24, 25, 26, 27, 28, 29, 30, 31, 32, 33, 34, 35, 36, 37, 38, 39, 40, 41, 42, 43, 44, 45, 46, 47, 48, 49, 50, 51, 52, 53, 54, 55, 56, 57, 58, 59, 60, 61, 62, 63, 64, 65, 66, 67, 68, 69, 70, 71, 72, 73, 74, 75, 76, 77, 78, 79, 80, 81, 82, 83, 84, 85, 86, 87, 88, 89, 90, 91, 92, 93, 94, 95, 96, 97, 98, 99]\n"
     ]
    }
   ],
   "source": [
    "c = list(range(1,100))\n",
    "print(c)"
   ]
  },
  {
   "cell_type": "code",
   "execution_count": 39,
   "metadata": {},
   "outputs": [
    {
     "name": "stdout",
     "output_type": "stream",
     "text": [
      "[30, 41, 25, 19, 10, 48, 12, 32, 40, 13, 9, 3, 46, 25, 43, 34, 48, 15, 10, 28, 28, 49, 40, 38, 44, 48, 32, 39, 20, 17, 2, 42, 30, 31, 23, 14, 45, 43, 13, 45, 35, 33, 28, 3, 15, 42, 12, 14, 49, 39, 48, 1, 10, 22, 32, 44, 2, 2, 41, 36, 37, 9, 39, 42, 24, 37, 41, 35, 15, 31, 37, 25, 17, 34, 4, 4, 42, 50, 31, 47, 25, 36, 0, 20, 11, 8, 27, 21, 27, 34, 20, 22, 40, 7, 38, 11, 3, 1, 40, 27]\n",
      "[30, 41, 25, 19, 10]\n",
      "[35, 39, 3, 44, 36, 27, 34, 38, 25, 12]\n"
     ]
    }
   ],
   "source": [
    "from random import randint,sample\n",
    "lst = [randint(0, 50) for _ in range(100)]\n",
    "print(lst)\n",
    "print(lst[:5])\n",
    "lst_sample = sample(lst, 10)\n",
    "print(lst_sample)"
   ]
  },
  {
   "cell_type": "code",
   "execution_count": 41,
   "metadata": {},
   "outputs": [
    {
     "name": "stdout",
     "output_type": "stream",
     "text": [
      "[20, 11, 10, 17, 10]\n"
     ]
    }
   ],
   "source": [
    "from random import shuffle\n",
    "shuffle(lst)\n",
    "print(lst[:5])"
   ]
  },
  {
   "cell_type": "code",
   "execution_count": 43,
   "metadata": {},
   "outputs": [
    {
     "name": "stdout",
     "output_type": "stream",
     "text": [
      "[3.29, 7.77, 6.48, 4.22, 2.42, 5.09, 1.02, 4.82, 7.11, 8.91, 0.45, 3.49, 7.92, 1.39, 0.78, 8.78, 6.97, 8.71, 9.19, 7.91, 2.03, 4.9, 5.78, 0.78, 1.49, 5.74, 9.96, 8.58, 4.13, 7.04, 1.01, 0.01, 7.22, 4.93, 3.54, 6.78, 6.31, 3.01, 4.77, 0.24, 2.82, 5.28, 0.65, 1.45, 5.24, 6.14, 5.15, 4.69, 5.14, 2.86, 4.22, 5.96, 2.95, 4.53, 2.21, 9.45, 2.45, 6.75, 1.4, 9.65, 8.03, 5.17, 3.07, 1.46, 6.92, 1.39, 4.1, 0.59, 7.71, 3.17, 5.14, 0.21, 5.59, 7.79, 1.25, 9.52, 7.61, 1.14, 3.57, 0.31, 1.15, 9.58, 2.03, 4.69, 7.6, 1.73, 9.28, 8.17, 7.33, 9.8, 8.25, 5.07, 6.87, 5.39, 5.0, 5.08, 2.66, 0.78, 0.99, 5.06]\n"
     ]
    }
   ],
   "source": [
    "from random import uniform\n",
    "x, y = [i for i in range(100)], [round(uniform(0, 10), 2) for _ in range(100)]\n",
    "print(y)"
   ]
  },
  {
   "cell_type": "code",
   "execution_count": 47,
   "metadata": {},
   "outputs": [
    {
     "name": "stdout",
     "output_type": "stream",
     "text": [
      "[4.1, 0.71, 3.11, 4.0, 8.44, 8.0, 1.29, 1.28, 4.81, 2.8, 2.86, 0.32, 3.89, 1.0, 9.79, 4.43, 0.5, 1.31, 0.81, 3.34, 4.89, 4.77, 0.39, 3.78, 0.69, 5.94, 2.89, 0.23, 3.84, 6.43, 9.01, 3.9, 7.86, 5.56, 5.41, 7.63, 4.22, 2.84, 9.51, 0.27, 3.04, 3.42, 9.66, 7.51, 4.51, 9.92, 8.58, 1.7, 2.14, 6.01, 5.09, 6.78, 6.97, 3.57, 4.51, 7.3, 6.53, 5.51, 9.95, 4.16, 3.18, 8.21, 2.37, 3.21, 2.01, 1.35, 7.39, 1.54, 7.44, 2.75, 8.05, 2.91, 8.61, 2.7, 3.93, 2.02, 1.94, 7.45, 5.91, 5.04, 5.94, 8.52, 8.02, 8.1, 6.6, 9.49, 8.87, 2.8, 7.22, 8.99, 6.47, 1.49, 3.19, 7.79, 0.17, 3.27, 1.47, 0.32, 9.1, 4.61]\n",
      "<class 'pyecharts.charts.basic_charts.scatter.Scatter'>\n"
     ]
    }
   ],
   "source": [
    "from pyecharts.charts import Scatter\n",
    "import pyecharts.options as opts\n",
    "from random import uniform\n",
    "\n",
    "def draw_uniform_points():\n",
    "    x, y = [i for i in range(100)], [round(uniform(0, 10), 2) for _ in range(100)]\n",
    "    print(y)\n",
    "    c = (\n",
    "        Scatter()\n",
    "        .add_xaxis(x)\n",
    "        .add_yaxis('y', y)\n",
    "    )\n",
    "    print(type(c))\n",
    "    c.render()\n",
    "    \n",
    "draw_uniform_points()"
   ]
  }
 ],
 "metadata": {
  "kernelspec": {
   "display_name": "Python 3",
   "language": "python",
   "name": "python3"
  },
  "language_info": {
   "codemirror_mode": {
    "name": "ipython",
    "version": 3
   },
   "file_extension": ".py",
   "mimetype": "text/x-python",
   "name": "python",
   "nbconvert_exporter": "python",
   "pygments_lexer": "ipython3",
   "version": "3.8.2"
  }
 },
 "nbformat": 4,
 "nbformat_minor": 4
}
