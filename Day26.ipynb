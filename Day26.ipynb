{
 "cells": [
  {
   "cell_type": "code",
   "execution_count": 1,
   "metadata": {},
   "outputs": [],
   "source": [
    "from flask import Flask"
   ]
  },
  {
   "cell_type": "code",
   "execution_count": 2,
   "metadata": {},
   "outputs": [],
   "source": [
    "app = Flask(__name__)"
   ]
  },
  {
   "cell_type": "code",
   "execution_count": 3,
   "metadata": {
    "scrolled": true
   },
   "outputs": [
    {
     "data": {
      "text/plain": [
       "['__call__',\n",
       " '__class__',\n",
       " '__delattr__',\n",
       " '__dict__',\n",
       " '__dir__',\n",
       " '__doc__',\n",
       " '__eq__',\n",
       " '__format__',\n",
       " '__ge__',\n",
       " '__getattribute__',\n",
       " '__gt__',\n",
       " '__hash__',\n",
       " '__init__',\n",
       " '__init_subclass__',\n",
       " '__le__',\n",
       " '__lt__',\n",
       " '__module__',\n",
       " '__ne__',\n",
       " '__new__',\n",
       " '__reduce__',\n",
       " '__reduce_ex__',\n",
       " '__repr__',\n",
       " '__setattr__',\n",
       " '__sizeof__',\n",
       " '__str__',\n",
       " '__subclasshook__',\n",
       " '__weakref__',\n",
       " '_find_error_handler',\n",
       " '_get_exc_class_and_code',\n",
       " '_register_error_handler',\n",
       " 'add_template_filter',\n",
       " 'add_template_global',\n",
       " 'add_template_test',\n",
       " 'add_url_rule',\n",
       " 'after_request',\n",
       " 'app_context',\n",
       " 'app_ctx_globals_class',\n",
       " 'auto_find_instance_path',\n",
       " 'before_first_request',\n",
       " 'before_request',\n",
       " 'config_class',\n",
       " 'context_processor',\n",
       " 'create_global_jinja_loader',\n",
       " 'create_jinja_environment',\n",
       " 'create_url_adapter',\n",
       " 'debug',\n",
       " 'default_config',\n",
       " 'dispatch_request',\n",
       " 'do_teardown_appcontext',\n",
       " 'do_teardown_request',\n",
       " 'endpoint',\n",
       " 'env',\n",
       " 'errorhandler',\n",
       " 'finalize_request',\n",
       " 'full_dispatch_request',\n",
       " 'get_send_file_max_age',\n",
       " 'got_first_request',\n",
       " 'handle_exception',\n",
       " 'handle_http_exception',\n",
       " 'handle_url_build_error',\n",
       " 'handle_user_exception',\n",
       " 'has_static_folder',\n",
       " 'import_name',\n",
       " 'inject_url_defaults',\n",
       " 'iter_blueprints',\n",
       " 'jinja_env',\n",
       " 'jinja_environment',\n",
       " 'jinja_loader',\n",
       " 'jinja_options',\n",
       " 'json_decoder',\n",
       " 'json_encoder',\n",
       " 'log_exception',\n",
       " 'logger',\n",
       " 'make_config',\n",
       " 'make_default_options_response',\n",
       " 'make_null_session',\n",
       " 'make_response',\n",
       " 'make_shell_context',\n",
       " 'name',\n",
       " 'open_instance_resource',\n",
       " 'open_resource',\n",
       " 'open_session',\n",
       " 'permanent_session_lifetime',\n",
       " 'preprocess_request',\n",
       " 'preserve_context_on_exception',\n",
       " 'process_response',\n",
       " 'propagate_exceptions',\n",
       " 'raise_routing_exception',\n",
       " 'register_blueprint',\n",
       " 'register_error_handler',\n",
       " 'request_class',\n",
       " 'request_context',\n",
       " 'response_class',\n",
       " 'root_path',\n",
       " 'route',\n",
       " 'run',\n",
       " 'save_session',\n",
       " 'secret_key',\n",
       " 'select_jinja_autoescape',\n",
       " 'send_file_max_age_default',\n",
       " 'send_static_file',\n",
       " 'session_cookie_name',\n",
       " 'session_interface',\n",
       " 'shell_context_processor',\n",
       " 'should_ignore_error',\n",
       " 'static_folder',\n",
       " 'static_url_path',\n",
       " 'teardown_appcontext',\n",
       " 'teardown_request',\n",
       " 'template_filter',\n",
       " 'template_folder',\n",
       " 'template_global',\n",
       " 'template_test',\n",
       " 'templates_auto_reload',\n",
       " 'test_cli_runner',\n",
       " 'test_cli_runner_class',\n",
       " 'test_client',\n",
       " 'test_client_class',\n",
       " 'test_request_context',\n",
       " 'testing',\n",
       " 'trap_http_exception',\n",
       " 'try_trigger_before_first_request_functions',\n",
       " 'update_template_context',\n",
       " 'url_defaults',\n",
       " 'url_map_class',\n",
       " 'url_rule_class',\n",
       " 'url_value_preprocessor',\n",
       " 'use_x_sendfile',\n",
       " 'wsgi_app']"
      ]
     },
     "execution_count": 3,
     "metadata": {},
     "output_type": "execute_result"
    }
   ],
   "source": [
    "dir(Flask)"
   ]
  },
  {
   "cell_type": "code",
   "execution_count": 4,
   "metadata": {},
   "outputs": [],
   "source": [
    "## 装饰器\n",
    "def call_print(f):\n",
    "    def g():\n",
    "        print('you\\'re calling %s function' %(f.__name__,))\n",
    "    return g"
   ]
  },
  {
   "cell_type": "code",
   "execution_count": 6,
   "metadata": {},
   "outputs": [],
   "source": [
    "@call_print\n",
    "def myfun():\n",
    "    pass\n",
    "\n",
    "@call_print\n",
    "def myfun2():\n",
    "    pass"
   ]
  },
  {
   "cell_type": "code",
   "execution_count": 7,
   "metadata": {},
   "outputs": [
    {
     "name": "stdout",
     "output_type": "stream",
     "text": [
      "you're calling myfun function\n"
     ]
    }
   ],
   "source": [
    "myfun()"
   ]
  },
  {
   "cell_type": "code",
   "execution_count": 8,
   "metadata": {},
   "outputs": [
    {
     "name": "stdout",
     "output_type": "stream",
     "text": [
      "you're calling myfun2 function\n"
     ]
    }
   ],
   "source": [
    "myfun2()"
   ]
  },
  {
   "cell_type": "code",
   "execution_count": 14,
   "metadata": {},
   "outputs": [],
   "source": [
    "def mf():\n",
    "    pass\n",
    "\n",
    "def mf_():\n",
    "    pass\n",
    "\n",
    "def cp(f):\n",
    "    def g():\n",
    "        print('you \\'re calling %s function' %(f.__name__,))\n",
    "    return g"
   ]
  },
  {
   "cell_type": "code",
   "execution_count": 15,
   "metadata": {},
   "outputs": [],
   "source": [
    "m = cp(mf)\n",
    "mm = cp(mf_)"
   ]
  },
  {
   "cell_type": "code",
   "execution_count": 16,
   "metadata": {},
   "outputs": [
    {
     "data": {
      "text/plain": [
       "function"
      ]
     },
     "execution_count": 16,
     "metadata": {},
     "output_type": "execute_result"
    }
   ],
   "source": [
    "type(m)"
   ]
  },
  {
   "cell_type": "code",
   "execution_count": 17,
   "metadata": {},
   "outputs": [
    {
     "name": "stdout",
     "output_type": "stream",
     "text": [
      "you 're calling mf function\n"
     ]
    }
   ],
   "source": [
    "m()"
   ]
  },
  {
   "cell_type": "code",
   "execution_count": 18,
   "metadata": {},
   "outputs": [
    {
     "name": "stdout",
     "output_type": "stream",
     "text": [
      "you 're calling mf_ function\n"
     ]
    }
   ],
   "source": [
    "mm()"
   ]
  },
  {
   "cell_type": "code",
   "execution_count": 19,
   "metadata": {},
   "outputs": [
    {
     "name": "stdout",
     "output_type": "stream",
     "text": [
      "<function cp.<locals>.g at 0x0000000005D21820>\n"
     ]
    }
   ],
   "source": [
    "print(m)"
   ]
  },
  {
   "cell_type": "code",
   "execution_count": 20,
   "metadata": {},
   "outputs": [],
   "source": [
    "from functools import wraps\n",
    "\n",
    "def call_print(f):\n",
    "    @wraps(f)\n",
    "    def g():\n",
    "        print('you\\'re calling %s function' %(f.__name__,))\n",
    "    return g"
   ]
  },
  {
   "cell_type": "code",
   "execution_count": 21,
   "metadata": {},
   "outputs": [],
   "source": [
    "m = call_print(mf)"
   ]
  },
  {
   "cell_type": "code",
   "execution_count": 22,
   "metadata": {},
   "outputs": [
    {
     "name": "stdout",
     "output_type": "stream",
     "text": [
      "<function mf at 0x0000000005D1F5E0>\n"
     ]
    }
   ],
   "source": [
    "print(m)"
   ]
  },
  {
   "cell_type": "code",
   "execution_count": 23,
   "metadata": {},
   "outputs": [],
   "source": [
    "import time\n",
    "import math\n",
    "\n",
    "def excepter(f):\n",
    "    i = 0\n",
    "    t1 = time.time()\n",
    "    def wrapper():\n",
    "        try:\n",
    "            f()\n",
    "        except Exception as e:\n",
    "            nonlocal i\n",
    "            i += 1\n",
    "            print(f'{e.args[0]}:{i}')\n",
    "            t2 = time.time()\n",
    "            if i == n:\n",
    "                print(f'spending time:{round(t2-t1, 2)}')\n",
    "    return wrapper"
   ]
  },
  {
   "cell_type": "code",
   "execution_count": 24,
   "metadata": {},
   "outputs": [
    {
     "name": "stdout",
     "output_type": "stream",
     "text": [
      "division by zero:1\n",
      "division by zero:2\n",
      "division by zero:3\n",
      "division by zero:4\n",
      "division by zero:5\n",
      "division by zero:6\n",
      "division by zero:7\n",
      "division by zero:8\n",
      "division by zero:9\n",
      "division by zero:10\n",
      "spending time:1.0\n",
      "list index out of range:1\n",
      "list index out of range:2\n",
      "list index out of range:3\n",
      "list index out of range:4\n",
      "list index out of range:5\n",
      "list index out of range:6\n",
      "list index out of range:7\n",
      "list index out of range:8\n",
      "list index out of range:9\n",
      "list index out of range:10\n",
      "spending time:1.0\n"
     ]
    }
   ],
   "source": [
    "n = 10 \n",
    "\n",
    "@excepter\n",
    "def divide_zero_except():\n",
    "    time.sleep(0.1)\n",
    "    j = 1 / (40 - 20 * 2)\n",
    "\n",
    "# test zero divived except\n",
    "for _ in range(n):\n",
    "    divide_zero_except()\n",
    "    \n",
    "@excepter\n",
    "def outof_range_except():\n",
    "    a = [1,3,5]\n",
    "    time.sleep(0.1)\n",
    "    print(a[3])\n",
    "    \n",
    "# test out of range except\n",
    "for _ in range(n):\n",
    "    outof_range_except()\n",
    "    "
   ]
  },
  {
   "cell_type": "code",
   "execution_count": 33,
   "metadata": {},
   "outputs": [],
   "source": [
    "import numpy as np\n",
    "from scipy.stats import beta, norm, uniform, binom\n",
    "import matplotlib.pyplot as plt\n",
    "from functools import wraps"
   ]
  },
  {
   "cell_type": "code",
   "execution_count": 38,
   "metadata": {},
   "outputs": [],
   "source": [
    "def my_plot(label0=None, label1=None, ylabel='probability density function', fn=None):\n",
    "    def decorate(f):\n",
    "        @wraps(f)\n",
    "        def myplot():\n",
    "            fig = plt.figure(figsize=(16,9))\n",
    "            ax = fig.add_subplot(111)\n",
    "            x, y, y1 = f()\n",
    "            ax.plot(x, y, linewidth=2, c='r', label=label0)\n",
    "            ax.plot(x, y1, linewidth=2, c='b', label=label1)\n",
    "            ax.legend()\n",
    "            plt.ylabel(ylabel)\n",
    "            #plt.show()\n",
    "            plt.savefig('./img/%s' %(fn,))\n",
    "            plt.close()\n",
    "        return myplot\n",
    "    return decorate"
   ]
  },
  {
   "cell_type": "code",
   "execution_count": 40,
   "metadata": {},
   "outputs": [],
   "source": [
    "@my_plot(label0='b-a=1.0',label1='b-a=2.0',fn='uniform.png')\n",
    "def unif():\n",
    "    x = np.arange(-0.01, 2.01, 0.01)\n",
    "    y = uniform.pdf(x, loc=0.0, scale=1.0)\n",
    "    y1 = uniform.pdf(x, loc=0.0, scale=2.0)\n",
    "    return x, y, y1\n",
    "\n",
    "unif()"
   ]
  },
  {
   "cell_type": "code",
   "execution_count": 41,
   "metadata": {},
   "outputs": [],
   "source": [
    "@my_plot(label0='n=50,p=0.3', label1='n=50,p=0.7',fn='binom.png',ylabel='probability mass function')\n",
    "def bino():\n",
    "    x = np.arange(50)\n",
    "    n, p, p1 = 50, 0.3, 0.7\n",
    "    y = binom.pmf(x, n=n, p=p)\n",
    "    y1 = binom.pmf(x, n=n, p=p1)\n",
    "    return x, y, y1\n",
    "\n",
    "bino()"
   ]
  },
  {
   "cell_type": "code",
   "execution_count": 42,
   "metadata": {},
   "outputs": [],
   "source": [
    "@my_plot(label0='u=0.,sigma=1.0',label1='u=0.,sigma=2.0',fn='gass.png')\n",
    "def gauss():\n",
    "    x = np.arange(-5,5,0.1)\n",
    "    y = norm.pdf(x, loc=0.0, scale=1.0)\n",
    "    y1 = norm.pdf(x, loc=0., scale=2.0)\n",
    "    return x, y, y1\n",
    "\n",
    "gauss()"
   ]
  },
  {
   "cell_type": "code",
   "execution_count": 43,
   "metadata": {},
   "outputs": [],
   "source": [
    "@my_plot(label0='a=10., b=30.', label1='a=4., b=4.', fn='beta.png')\n",
    "def bet():\n",
    "    x = np.arange(-0.1, 1, 0.001)\n",
    "    y = beta.pdf(x, a=10., b=30.)\n",
    "    y1 = beta.pdf(x, a=4., b=4.)\n",
    "    return x, y, y1\n",
    "\n",
    "bet()"
   ]
  },
  {
   "cell_type": "code",
   "execution_count": 45,
   "metadata": {},
   "outputs": [],
   "source": [
    "distrs = [unif, bino, gauss, bet]\n",
    "for distri in distrs:\n",
    "    distri()"
   ]
  },
  {
   "cell_type": "code",
   "execution_count": null,
   "metadata": {},
   "outputs": [],
   "source": []
  }
 ],
 "metadata": {
  "kernelspec": {
   "display_name": "Python 3",
   "language": "python",
   "name": "python3"
  },
  "language_info": {
   "codemirror_mode": {
    "name": "ipython",
    "version": 3
   },
   "file_extension": ".py",
   "mimetype": "text/x-python",
   "name": "python",
   "nbconvert_exporter": "python",
   "pygments_lexer": "ipython3",
   "version": "3.8.4"
  }
 },
 "nbformat": 4,
 "nbformat_minor": 4
}
