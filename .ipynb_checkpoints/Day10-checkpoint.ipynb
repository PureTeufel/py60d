{
 "cells": [
  {
   "cell_type": "markdown",
   "metadata": {},
   "source": [
    "## 文件操作（file operation）"
   ]
  },
  {
   "cell_type": "code",
   "execution_count": 4,
   "metadata": {},
   "outputs": [],
   "source": [
    "import os\n",
    "\n",
    "def read_file(filename):\n",
    "    if os.path.exists(filename) is False:\n",
    "        raise FileNotFoundError('%s not exists'%(filename,))\n",
    "    # \n",
    "    f = open(filename,encoding='UTF-8')\n",
    "    content = f.read()\n",
    "    f.close()\n",
    "    return content"
   ]
  },
  {
   "cell_type": "code",
   "execution_count": 8,
   "metadata": {},
   "outputs": [
    {
     "ename": "SyntaxError",
     "evalue": "EOL while scanning string literal (<ipython-input-8-1b9fe2862a93>, line 1)",
     "output_type": "error",
     "traceback": [
      "\u001b[1;36m  File \u001b[1;32m\"<ipython-input-8-1b9fe2862a93>\"\u001b[1;36m, line \u001b[1;32m1\u001b[0m\n\u001b[1;33m    read_file('D:\\Learn\\Code\\')\u001b[0m\n\u001b[1;37m                               ^\u001b[0m\n\u001b[1;31mSyntaxError\u001b[0m\u001b[1;31m:\u001b[0m EOL while scanning string literal\n"
     ]
    }
   ],
   "source": [
    "read_file('D:\\Learn\\Code\\')"
   ]
  },
  {
   "cell_type": "code",
   "execution_count": 6,
   "metadata": {},
   "outputs": [
    {
     "data": {
      "text/plain": [
       "'#include<stdio.h>\\n\\nint removeDuplicates(int* nums, int numsSize){\\n    \\n    int start = 0; \\n    int end = 0;\\n    int tmpCnt = 0;\\n    int newValue = 0;\\n\\n    for (; start < numsSize - 1; start){\\n        \\n        /* 统计不符合数组的第一个元素的个数*/\\n        newValue = nums[start];\\n        while (nums[start++] == nums[start]){\\n            tmpCnt++;\\n            if(1 == numsSize - start){\\n                start = numsSize;\\n                break;\\n            }\\n        }\\n\\n        /* 向符合数组添加元素 */\\n        if (tmpCnt){\\n            nums[end++] = newValue;\\n            nums[end++] = newValue;\\n\\n            tmpCnt = 0;\\n        }\\n        else{\\n            nums[end++] = newValue;\\n        }\\n\\n        /* 获取不符合数组的起始端下标 */\\n        //start = end + tmpCnt - 1;\\n        //tmpCnt = 0;\\n    }\\n\\n    if (1 == (numsSize - start)){\\n        nums[end++] = nums[start];\\n    }\\n    \\n    return end;\\n}\\n\\nint main()\\n{\\n\\n    int test[7] = {1,1,1,2,2,3,3};\\n    int N = 0;\\n\\n    printf(\"before:\\\\n\");\\n    //for(int i = 0; i < 6; i++)\\n    //    printf(\"%d \", test[i]);\\n\\n    printf(\"\\\\nafter:\\\\n\");\\n    printf(\"%d\\\\n\", N = removeDuplicates(test, 7));\\n\\n    for(int i = 0; i < N; i++)\\n        printf(\"%d \", test[i]);\\n\\n    return 0;\\n}'"
      ]
     },
     "execution_count": 6,
     "metadata": {},
     "output_type": "execute_result"
    }
   ],
   "source": [
    "read_file('D:\\Learn\\Code\\Demo.c')"
   ]
  },
  {
   "cell_type": "code",
   "execution_count": 14,
   "metadata": {},
   "outputs": [],
   "source": [
    "def read__file(filename):\n",
    "    if os.path.exists(filename) is False:\n",
    "        raise FileNotFoundError('%s not exists'%(filename,))\n",
    "    with open(filename, encoding = 'UTF-8') as f:\n",
    "        content = f.read()\n",
    "    return content"
   ]
  },
  {
   "cell_type": "code",
   "execution_count": 15,
   "metadata": {},
   "outputs": [],
   "source": [
    "CCC = read__file(\"D:\\Learn\\Code\\Demo.c\")"
   ]
  },
  {
   "cell_type": "code",
   "execution_count": 20,
   "metadata": {},
   "outputs": [
    {
     "name": "stdout",
     "output_type": "stream",
     "text": [
      "----print stat----\n",
      "[('Python', 3), ('and', 2), ('Hey,', 1), ('I', 1), ('just', 1), ('love', 1), ('so', 1), ('much,', 1), ('want', 1), ('to', 1), ('get', 1), ('the', 1), ('whole', 1), ('stack', 1), ('by', 1), ('this', 1), ('60-days', 1), ('column', 1), ('believe', 1), ('Python!', 1)]\n",
      "----words stat done----\n"
     ]
    }
   ],
   "source": [
    "from collections import defaultdict\n",
    "import re\n",
    "\n",
    "rec = re.compile('\\s+')\n",
    "dd = defaultdict(int)\n",
    "with open('a.txt', 'r+', encoding='UTF-8') as f:\n",
    "    for line in f:\n",
    "        clean_line = line.strip()\n",
    "        if clean_line:\n",
    "            words = rec.split(clean_line)\n",
    "            for word in words:\n",
    "                dd[word] += 1\n",
    "                \n",
    "dd = sorted(dd.items(), key=lambda x: x[1], reverse=True)\n",
    "print('----print stat----')\n",
    "print(dd)\n",
    "print('----words stat done----')"
   ]
  },
  {
   "cell_type": "code",
   "execution_count": 23,
   "metadata": {},
   "outputs": [],
   "source": [
    "def write_file(file_path, file_name):\n",
    "    if os.path.exists(file_path) is False:\n",
    "        os.mkdir(file_path)\n",
    "    \n",
    "    whole_path_filename = os.path.join(file_path, file_name)\n",
    "    to_write_content = '''\n",
    "                        Hey, Python\n",
    "                        I just love Python so much,\n",
    "                        and want to get the whole python stack by this 60-days column\n",
    "                        and believe\n",
    "                        '''\n",
    "    with open(whole_path_filename, mode=\"w\", encoding = 'UTF-8') as f:\n",
    "        f.write(to_write_content)\n",
    "    \n",
    "    print('----write done-----')\n",
    "    \n",
    "    print('----begin reading----')\n",
    "    with open(whole_path_filename, encoding = 'UTF-8') as f:\n",
    "        content = f.read()\n",
    "        print(content)\n",
    "        if to_write_content == content:\n",
    "            print('file is wrote sucessfully')\n",
    "        else:\n",
    "            print('file isn\\'t wrote sucessfully')    "
   ]
  },
  {
   "cell_type": "code",
   "execution_count": 24,
   "metadata": {},
   "outputs": [
    {
     "name": "stdout",
     "output_type": "stream",
     "text": [
      "----write done-----\n",
      "----begin reading----\n",
      "\n",
      "                        Hey, Python\n",
      "                        I just love Python so much,\n",
      "                        and want to get the whole python stack by this 60-days column\n",
      "                        and believe\n",
      "                        \n",
      "file is wrote sucessfully\n"
     ]
    }
   ],
   "source": [
    "write_file(\"D:\\Learn\\Code\", \"b.txt\")"
   ]
  },
  {
   "cell_type": "code",
   "execution_count": 29,
   "metadata": {},
   "outputs": [],
   "source": [
    "file_ext = os.path.split(\"D:\\Learn\\Code\\trie.java\")\n",
    "ipath,ifile = file_ext"
   ]
  },
  {
   "cell_type": "code",
   "execution_count": 30,
   "metadata": {},
   "outputs": [
    {
     "data": {
      "text/plain": [
       "('D:\\\\Learn', 'Code\\trie.java')"
      ]
     },
     "execution_count": 30,
     "metadata": {},
     "output_type": "execute_result"
    }
   ],
   "source": [
    "file_ext"
   ]
  },
  {
   "cell_type": "code",
   "execution_count": 27,
   "metadata": {},
   "outputs": [
    {
     "data": {
      "text/plain": [
       "'D:\\\\Learn'"
      ]
     },
     "execution_count": 27,
     "metadata": {},
     "output_type": "execute_result"
    }
   ],
   "source": [
    "ipath"
   ]
  },
  {
   "cell_type": "code",
   "execution_count": 28,
   "metadata": {},
   "outputs": [
    {
     "data": {
      "text/plain": [
       "'Code\\trie.java'"
      ]
     },
     "execution_count": 28,
     "metadata": {},
     "output_type": "execute_result"
    }
   ],
   "source": [
    "ifile"
   ]
  },
  {
   "cell_type": "code",
   "execution_count": 31,
   "metadata": {},
   "outputs": [],
   "source": [
    "f_ext = os.path.splitext(\"D:\\Learn\\Code\\trie.java\")"
   ]
  },
  {
   "cell_type": "code",
   "execution_count": 32,
   "metadata": {},
   "outputs": [
    {
     "data": {
      "text/plain": [
       "'D:\\\\Learn\\\\Code\\trie'"
      ]
     },
     "execution_count": 32,
     "metadata": {},
     "output_type": "execute_result"
    }
   ],
   "source": [
    "f_ext[0]"
   ]
  },
  {
   "cell_type": "code",
   "execution_count": 33,
   "metadata": {},
   "outputs": [
    {
     "data": {
      "text/plain": [
       "'.java'"
      ]
     },
     "execution_count": 33,
     "metadata": {},
     "output_type": "execute_result"
    }
   ],
   "source": [
    "f_ext[1]"
   ]
  },
  {
   "cell_type": "code",
   "execution_count": 1,
   "metadata": {},
   "outputs": [],
   "source": [
    "## 小案例：批量修改后缀名\n",
    "import argparse\n",
    "import os\n",
    "\n",
    "def get_parser():\n",
    "    parser = argparse.ArgumentParser(description='工作目录中文件后缀名修改')\n",
    "    parser.add_argument('work_dir', metavar='WORK_DIR', type=str, nargs=1, help='修改后缀名的文件目录')\n",
    "    parser.add_argument('old_ext', metavar='OLD_EXT', type=str, nargs=1, help='原来的后缀')\n",
    "    parser.add_argument('new_ext', metavar='NEW_EXT', type=str, nargs=1, help='新的后缀')\n",
    "    return parser\n",
    "\n",
    "def batch_rename(work_dir, old_ext, new_ext):\n",
    "    \"\"\"\n",
    "    传递当前目录，原来后缀名，新的后缀名，批量重命名后缀\n",
    "    \"\"\"\n",
    "    for filename in os.listdir(work_dir):\n",
    "        # 获取当前文件后缀\n",
    "        split_file = os.path.splitext(filename)\n",
    "        file_ext = split_file[1]\n",
    "        if old_ext == file_ext: # 定位后缀名为old_ext的文件\n",
    "            newfile = split_file[0] + new_ext # 修改后文件的完整名称\n",
    "            # 实现重命名操作\n",
    "            os.rename(\n",
    "                os.path.join(work_dir, filename),\n",
    "                os.path.join(work_dir, newfile)\n",
    "            )\n",
    "        print(\"完成重命名\")\n",
    "        print(os.listdir(work_dir))\n",
    "            \n",
    "def main():\n",
    "    # 命令行参数\n",
    "    parser = get_parser()\n",
    "    args = vars(parser.parse_args())\n",
    "    # 从命令行参数中依次解析出参数\n",
    "    work_dir = args['work_dir'][0]\n",
    "    old_ext = args['old_ext'][0]\n",
    "    \n",
    "    if old_ext[0] != '.':\n",
    "        old_ext = '.' + old_ext\n",
    "    new_ext = args['new_ext'][0]\n",
    "    if new_ext[0] != '.':\n",
    "        new_ext = '.' + new_ext\n",
    "        \n",
    "    batch_rename(work_dir, old_ext, new_ext)"
   ]
  },
  {
   "cell_type": "code",
   "execution_count": 7,
   "metadata": {},
   "outputs": [],
   "source": [
    "## XLS 批量转换成XLSX\n",
    "import os\n",
    "\n",
    "def xls_to_xlsx(work_dir):\n",
    "    old_ext, new_ext = '.xls', '.xlsx'\n",
    "    for filename in os.listdir(work_dir):\n",
    "        # 获取得到文件后缀\n",
    "        split_file = os.path.splitext(filename)\n",
    "        file_ext = split_file[1]\n",
    "        \n",
    "        # 定位后缀名为 old_ext 的文件\n",
    "        if old_ext == file_ext:\n",
    "            # 修改后文件的完整名称\n",
    "            newfile = split_file[0] + new_ext\n",
    "            # 实现重名名操作\n",
    "            os.rename(\n",
    "                os.path.join(work_dir, filename),\n",
    "                os.path.join(work_dir, newfile)\n",
    "            )\n",
    "    print(\"完成重命名\")\n",
    "    print(os.listdir(work_dir))        "
   ]
  },
  {
   "cell_type": "code",
   "execution_count": 8,
   "metadata": {},
   "outputs": [
    {
     "name": "stdout",
     "output_type": "stream",
     "text": [
      "完成重命名\n",
      "['1 - Copy (2).xlsx', '1 - Copy (3).xlsx', '1 - Copy (4).xlsx', '1 - Copy (5) - Copy.xlsx', '1 - Copy (5).xlsx', '1 - Copy (6) - Copy.xlsx', '1 - Copy (6).xlsx', '1 - Copy (7) - Copy.xlsx', '1 - Copy.xlsx', '1.xlsx', '2 - Copy (2).pptx', '2 - Copy (3).pptx', '2 - Copy.pptx', '2.pptx', '3 - Copy (2).docx', '3 - Copy.docx', '3.docx']\n"
     ]
    }
   ],
   "source": [
    "xls_to_xlsx('.\\Test')"
   ]
  },
  {
   "cell_type": "code",
   "execution_count": 11,
   "metadata": {},
   "outputs": [
    {
     "name": "stdout",
     "output_type": "stream",
     "text": [
      "当前时间：2020-06-25 22:25:56\n"
     ]
    }
   ],
   "source": [
    "## 获取目录下文件的修改时间\n",
    "import os\n",
    "from datetime import datetime\n",
    "\n",
    "print(f\"当前时间：{datetime.now().strftime('%Y-%m-%d %H:%M:%S')}\")\n",
    "\n",
    "def get_modify_time(indir):\n",
    "    for root, _, files in os.walk(indir): # 循环目录和子目录\n",
    "        for file in files:\n",
    "            whole_file_name = os.path.join(root, file)\n",
    "            modify_time = os.path.getmtime(whole_file_name) \n",
    "            nice_show_time = datetime.fromtimestamp(modify_time) # 时间格式转换为人性化显示\n",
    "            print('文件 %s 最后一次修改时间：%s' %(file, nice_show_time))"
   ]
  },
  {
   "cell_type": "code",
   "execution_count": 12,
   "metadata": {},
   "outputs": [
    {
     "name": "stdout",
     "output_type": "stream",
     "text": [
      "文件 a.txt 最后一次修改时间：2020-06-23 23:23:10.053990\n",
      "文件 batch_rename.py 最后一次修改时间：2020-06-25 22:05:08.002835\n",
      "文件 Day01.ipynb 最后一次修改时间：2020-05-31 10:11:31.902367\n",
      "文件 Day02.ipynb 最后一次修改时间：2020-06-03 00:32:57.961112\n",
      "文件 Day03.ipynb 最后一次修改时间：2020-06-05 00:20:07.713881\n",
      "文件 Day04.ipynb 最后一次修改时间：2020-06-07 16:04:18.678303\n",
      "文件 Day05.ipynb 最后一次修改时间：2020-06-12 21:47:38.864003\n",
      "文件 Day06.ipynb 最后一次修改时间：2020-06-13 00:25:00.048095\n",
      "文件 Day07.ipynb 最后一次修改时间：2020-06-15 23:43:37.176372\n",
      "文件 Day08.ipynb 最后一次修改时间：2020-06-17 23:36:45.078743\n",
      "文件 Day09.ipynb 最后一次修改时间：2020-06-21 23:22:44.089658\n",
      "文件 Day10.ipynb 最后一次修改时间：2020-06-25 22:25:01.142059\n",
      "文件 render.html 最后一次修改时间：2020-06-07 16:03:03.020687\n",
      "文件 COMMIT_EDITMSG 最后一次修改时间：2020-06-07 16:24:45.107172\n",
      "文件 config 最后一次修改时间：2020-06-07 19:54:41.855904\n",
      "文件 description 最后一次修改时间：2020-06-07 16:18:50.868253\n",
      "文件 FETCH_HEAD 最后一次修改时间：2020-06-08 06:52:05.624976\n",
      "文件 HEAD 最后一次修改时间：2020-06-07 16:18:50.877232\n",
      "文件 index 最后一次修改时间：2020-06-07 16:24:45.104142\n",
      "文件 applypatch-msg.sample 最后一次修改时间：2020-06-07 16:18:50.868253\n",
      "文件 commit-msg.sample 最后一次修改时间：2020-06-07 16:18:50.869251\n",
      "文件 fsmonitor-watchman.sample 最后一次修改时间：2020-06-07 16:18:50.870248\n",
      "文件 post-update.sample 最后一次修改时间：2020-06-07 16:18:50.870248\n",
      "文件 pre-applypatch.sample 最后一次修改时间：2020-06-07 16:18:50.870248\n",
      "文件 pre-commit.sample 最后一次修改时间：2020-06-07 16:18:50.871248\n",
      "文件 pre-merge-commit.sample 最后一次修改时间：2020-06-07 16:18:50.871248\n",
      "文件 pre-push.sample 最后一次修改时间：2020-06-07 16:18:50.872245\n",
      "文件 pre-rebase.sample 最后一次修改时间：2020-06-07 16:18:50.872245\n",
      "文件 pre-receive.sample 最后一次修改时间：2020-06-07 16:18:50.873242\n",
      "文件 prepare-commit-msg.sample 最后一次修改时间：2020-06-07 16:18:50.873242\n",
      "文件 update.sample 最后一次修改时间：2020-06-07 16:18:50.874239\n",
      "文件 exclude 最后一次修改时间：2020-06-07 16:18:50.874239\n",
      "文件 HEAD 最后一次修改时间：2020-06-07 16:24:45.112120\n",
      "文件 master 最后一次修改时间：2020-06-07 16:24:45.112120\n",
      "文件 master 最后一次修改时间：2020-06-08 06:50:57.443392\n",
      "文件 57e5502fd9c62e442a94debcc7c49d8d42c068 最后一次修改时间：2020-06-07 16:21:19.415877\n",
      "文件 06dcc8230a36700bff4c7b553ab3db50591cc3 最后一次修改时间：2020-06-07 16:21:11\n",
      "文件 4db4b59107228576fb2a812ddeb485ab0f9d10 最后一次修改时间：2020-06-07 16:21:11.764303\n",
      "文件 e6f8d6432e69985dd99e09c9927d93e3c8abef 最后一次修改时间：2020-06-07 16:24:45\n",
      "文件 240acf29cbe4fa065416dd3e2ee38d2160746e 最后一次修改时间：2020-06-08 06:50:57.086318\n",
      "文件 64d45a27254ac0c36a8932fa200e21a4fb532f 最后一次修改时间：2020-06-07 16:22:33\n",
      "文件 464c1085dc71930703c69266b24085ef44a917 最后一次修改时间：2020-06-07 16:21:04\n",
      "文件 03c17af37b2cb1a46983123f0efc31f078241f 最后一次修改时间：2020-06-07 16:21:04.079882\n",
      "文件 730304585e4bed2d02213a50351778bfa24137 最后一次修改时间：2020-06-07 16:21:19.420071\n",
      "文件 ec51502cbc3200b3d0ffc6bbba1fe85e197f3d 最后一次修改时间：2020-06-07 16:24:45\n",
      "文件 c3740e57540770b3bd7a89acb55c105952cae9 最后一次修改时间：2020-06-07 16:21:26\n",
      "文件 eec849c08c405c879d75b48e8ab61ad55e387d 最后一次修改时间：2020-06-07 16:22:33\n",
      "文件 f59ad29b06b93a4bbeb083cc83f80c51719c1e 最后一次修改时间：2020-06-07 16:21:04.075919\n",
      "文件 b45152d891987e077f2f26e870399549491ec1 最后一次修改时间：2020-06-07 16:21:19\n",
      "文件 ae8cc33c52fa8e7df3cbba7e345e2791c19c28 最后一次修改时间：2020-06-07 16:21:26.696355\n",
      "文件 90f41826f4744d8aacc71a89a2122c90a5fa01 最后一次修改时间：2020-06-08 06:50:57.082357\n",
      "文件 e47617de110dea7ca47e087ff1347cc2646eda 最后一次修改时间：2020-06-08 06:50:57.089307\n",
      "文件 afa55d7369f2d687f952641e8ca186c18ba881 最后一次修改时间：2020-06-07 16:24:45.108130\n",
      "文件 2c31dd8b3452fe51e0187bb7b26c5a6b547bbf 最后一次修改时间：2020-06-07 16:21:26.699347\n",
      "文件 449fac7078988a5304269ceddd6bd5ca030c87 最后一次修改时间：2020-06-07 16:24:45\n",
      "文件 83a8b84d21d8b28bfe2d3a3b5fca61e6c823d3 最后一次修改时间：2020-06-07 16:22:33.717052\n",
      "文件 ac4008ad7dbd6bc09956e02d94d651db2cb695 最后一次修改时间：2020-06-07 16:21:11.768293\n",
      "文件 master 最后一次修改时间：2020-06-07 16:24:45.112120\n",
      "文件 master 最后一次修改时间：2020-06-08 06:50:57.441366\n",
      "文件 Day01-checkpoint.ipynb 最后一次修改时间：2020-05-25 22:56:52.598466\n",
      "文件 Day02-checkpoint.ipynb 最后一次修改时间：2020-06-03 00:04:57.552418\n",
      "文件 Day03-checkpoint.ipynb 最后一次修改时间：2020-06-03 23:22:36.948172\n",
      "文件 Day04-checkpoint.ipynb 最后一次修改时间：2020-06-05 21:34:02.611087\n",
      "文件 Day05-checkpoint.ipynb 最后一次修改时间：2020-06-12 21:45:38.750023\n",
      "文件 Day06-checkpoint.ipynb 最后一次修改时间：2020-06-12 22:26:58.064888\n",
      "文件 Day07-checkpoint.ipynb 最后一次修改时间：2020-06-12 22:27:02.895849\n",
      "文件 Day08-checkpoint.ipynb 最后一次修改时间：2020-06-16 23:40:03.490546\n",
      "文件 Day09-checkpoint.ipynb 最后一次修改时间：2020-06-21 23:22:44.089658\n",
      "文件 Day10-checkpoint.ipynb 最后一次修改时间：2020-06-23 22:50:36.545736\n",
      "文件 render-checkpoint.html 最后一次修改时间：2020-06-07 16:03:03.020687\n",
      "文件 1 - Copy (2).xlsx 最后一次修改时间：2020-06-25 22:13:52.067661\n",
      "文件 1 - Copy (3).xlsx 最后一次修改时间：2020-06-25 22:13:52.067661\n",
      "文件 1 - Copy (4).xlsx 最后一次修改时间：2020-06-25 22:13:52.067661\n",
      "文件 1 - Copy (5) - Copy.xlsx 最后一次修改时间：2020-06-25 22:13:52.067661\n",
      "文件 1 - Copy (5).xlsx 最后一次修改时间：2020-06-25 22:13:52.067661\n",
      "文件 1 - Copy (6) - Copy.xlsx 最后一次修改时间：2020-06-25 22:13:52.067661\n",
      "文件 1 - Copy (6).xlsx 最后一次修改时间：2020-06-25 22:13:52.067661\n",
      "文件 1 - Copy (7) - Copy.xlsx 最后一次修改时间：2020-06-25 22:13:52.067661\n",
      "文件 1 - Copy.xlsx 最后一次修改时间：2020-06-25 22:13:52.067661\n",
      "文件 1.xlsx 最后一次修改时间：2020-06-25 22:13:52.067661\n",
      "文件 2 - Copy (2).pptx 最后一次修改时间：2020-06-25 22:14:25.222557\n",
      "文件 2 - Copy (3).pptx 最后一次修改时间：2020-06-25 22:14:25.222557\n",
      "文件 2 - Copy.pptx 最后一次修改时间：2020-06-25 22:14:25.222557\n",
      "文件 2.pptx 最后一次修改时间：2020-06-25 22:14:25.222557\n",
      "文件 3 - Copy (2).docx 最后一次修改时间：2020-06-25 22:14:32.470992\n",
      "文件 3 - Copy.docx 最后一次修改时间：2020-06-25 22:14:32.470992\n",
      "文件 3.docx 最后一次修改时间：2020-06-25 22:14:32.470992\n"
     ]
    }
   ],
   "source": [
    "get_modify_time('.')"
   ]
  },
  {
   "cell_type": "code",
   "execution_count": 13,
   "metadata": {},
   "outputs": [],
   "source": [
    "## 批量压缩文件\n",
    "import zipfile\n",
    "import os \n",
    "import time\n",
    "\n",
    "def batch_zip(start_dir):\n",
    "    start_dir = start_dir  # 要压缩的文件夹路径\n",
    "    file_news = start_dir + '.zip'  # 压缩后文件夹的名字\n",
    "    \n",
    "    z = zipfile.ZipFile(file_news, 'w', zipfile.ZIP_DEFLATED)\n",
    "    for dir_path, dir_names, file_names in os.walk(start_dir):\n",
    "        # 这一句很重要，不replace的话，就从根目录开始复制\n",
    "        f_path = dir_path.replace(start_dir, '')\n",
    "        f_path = f_path and f_path + os.sep  # 实现当前文件夹以及包含的所有文件的压缩\n",
    "        for filename in file_names:\n",
    "            z.write(os.path.join(dir_path, filename), f_path + filename)\n",
    "        z.close()\n",
    "        return file_news"
   ]
  },
  {
   "cell_type": "code",
   "execution_count": 14,
   "metadata": {},
   "outputs": [
    {
     "data": {
      "text/plain": [
       "'.\\\\Test.zip'"
      ]
     },
     "execution_count": 14,
     "metadata": {},
     "output_type": "execute_result"
    }
   ],
   "source": [
    "batch_zip('.\\Test')"
   ]
  },
  {
   "cell_type": "code",
   "execution_count": 15,
   "metadata": {},
   "outputs": [
    {
     "name": "stdout",
     "output_type": "stream",
     "text": [
      "c4ca4238a0b923820dcc509a6f75849b\n",
      "5d41402abc4b2a76b9719d911017c592\n"
     ]
    }
   ],
   "source": [
    "## 32位文件加密\n",
    "import hashlib\n",
    "\n",
    "def hash_cry32(s):\n",
    "    m = hashlib.md5()\n",
    "    m.update((str(s).encode('utf-8')))\n",
    "    return m.hexdigest()\n",
    "\n",
    "print(hash_cry32(1))\n",
    "print(hash_cry32('hello'))"
   ]
  },
  {
   "cell_type": "code",
   "execution_count": 17,
   "metadata": {},
   "outputs": [
    {
     "name": "stdout",
     "output_type": "stream",
     "text": [
      "D:\\Learn\\Code\\py_60d\n",
      "文件名./a.txt\n",
      "文件名./b.txt\n",
      "'_io.TextIOWrapper' object has no attribute 'readines'\n",
      "None\n"
     ]
    }
   ],
   "source": [
    "## 定制文件不同行\n",
    "\n",
    "# 统计文件个数\n",
    "def statLineCnt(statfile):\n",
    "    print('文件名'+statfile)\n",
    "    cnt = 0\n",
    "    with open(statfile, encoding = 'utf-8') as f:\n",
    "        while f.readline():\n",
    "            cnt += 1\n",
    "        return cnt\n",
    "\n",
    "# more表示含有更多行数的文件\n",
    "def diff(more, cnt, less):\n",
    "    difflist = []\n",
    "    with open(less, encoding = 'utf-8') as l:\n",
    "        with open(more, encoding = 'utf-8') as m:\n",
    "            lines = l.readlines()\n",
    "            for i, line in enumerate(lines):\n",
    "                if line.strip() != m.readline().strip():\n",
    "                    difflist.append(i)\n",
    "    if cnt - i > 1:\n",
    "        difflist.extend(range(i + 1, cnt))\n",
    "    return [no+1 for no in difflist]\n",
    "\n",
    "# 返回的结果行号从1开始\n",
    "# list 表示 fileA 和 fileB 不同的行的编号\n",
    "def file_diff_line_nos(fileA, fileB):\n",
    "    try:\n",
    "        cntA = statLineCnt(fileA)\n",
    "        cntB = statLineCnt(fileB)\n",
    "        if cntA > cntB:\n",
    "            return diff(fileA, cntA, cntB)\n",
    "        return diff(fileB, cntB, fileA)\n",
    "    except Exception as e:\n",
    "        print(e)\n",
    "\n",
    "if __name__ == '__main__':\n",
    "    import os\n",
    "    print(os.getcwd())\n",
    "    '''\n",
    "    例子：\n",
    "    fileA = \"'Hello world!!!!''\\\n",
    "            'nice to meet you'\\\n",
    "            'yes'\\\n",
    "            'no1'\\\n",
    "            'jack'\"\n",
    "    fileB = \"'hello world!!!!''\\\n",
    "            'nice to meet you'\\\n",
    "            'yes'\"\n",
    "    '''\n",
    "    diff = file_diff_line_nos('./a.txt', './b.txt')\n",
    "    print(diff)"
   ]
  },
  {
   "cell_type": "code",
   "execution_count": null,
   "metadata": {},
   "outputs": [],
   "source": []
  }
 ],
 "metadata": {
  "kernelspec": {
   "display_name": "Python 3",
   "language": "python",
   "name": "python3"
  },
  "language_info": {
   "codemirror_mode": {
    "name": "ipython",
    "version": 3
   },
   "file_extension": ".py",
   "mimetype": "text/x-python",
   "name": "python",
   "nbconvert_exporter": "python",
   "pygments_lexer": "ipython3",
   "version": "3.8.2"
  }
 },
 "nbformat": 4,
 "nbformat_minor": 4
}
