{
 "cells": [
  {
   "cell_type": "markdown",
   "metadata": {},
   "source": [
    "## Flask"
   ]
  },
  {
   "cell_type": "code",
   "execution_count": 2,
   "metadata": {},
   "outputs": [
    {
     "name": "stdout",
     "output_type": "stream",
     "text": [
      " * Serving Flask app \"__main__\" (lazy loading)\n",
      " * Environment: production\n",
      "   WARNING: This is a development server. Do not use it in a production deployment.\n",
      "   Use a production WSGI server instead.\n",
      " * Debug mode: on\n"
     ]
    },
    {
     "name": "stderr",
     "output_type": "stream",
     "text": [
      " * Restarting with stat\n"
     ]
    },
    {
     "ename": "SystemExit",
     "evalue": "1",
     "output_type": "error",
     "traceback": [
      "An exception has occurred, use %tb to see the full traceback.\n",
      "\u001b[1;31mSystemExit\u001b[0m\u001b[1;31m:\u001b[0m 1\n"
     ]
    }
   ],
   "source": [
    "from flask import Flask\n",
    "\n",
    "App = Flask(__name__)\n",
    "\n",
    "@App.route('/')\n",
    "def index():\n",
    "    return \"hello, world\"\n",
    "\n",
    "if __name__ == \"__main__\":\n",
    "    App.run(debug=True)"
   ]
  },
  {
   "cell_type": "markdown",
   "metadata": {},
   "source": [
    "## FastAPI"
   ]
  },
  {
   "cell_type": "code",
   "execution_count": 1,
   "metadata": {},
   "outputs": [],
   "source": [
    "from fastapi import FastAPI\n",
    "from pydantic import BaseModel\n",
    "\n",
    "app = FastAPI()\n",
    "\n",
    "class User(BaseModel):\n",
    "    id: int\n",
    "    name: str\n",
    "    friends: list"
   ]
  },
  {
   "cell_type": "markdown",
   "metadata": {},
   "source": [
    "## Requests"
   ]
  },
  {
   "cell_type": "code",
   "execution_count": 3,
   "metadata": {},
   "outputs": [
    {
     "name": "stdout",
     "output_type": "stream",
     "text": [
      "200\n"
     ]
    }
   ],
   "source": [
    "import requests\n",
    "\n",
    "url = 'http://www.weather.com.cn/weather1d/101010100.shtml#input'\n",
    "with requests.get(url) as res:\n",
    "    status = res.status_code\n",
    "    print(status)\n",
    "    content = res.content\n",
    "    #print(content)"
   ]
  },
  {
   "cell_type": "markdown",
   "metadata": {},
   "source": [
    "## lxml"
   ]
  },
  {
   "cell_type": "code",
   "execution_count": 5,
   "metadata": {},
   "outputs": [
    {
     "name": "stdout",
     "output_type": "stream",
     "text": [
      "['香河', '涿州', '唐山', '沧州', '天津', '廊坊', '太原', '石家庄', '涿鹿', '张家口', '保定', '三河', '北京孔庙', '北京国子监', '中国地质博物馆', '月坛公园', '明城墙遗址公园', '北京市规划展览馆', '什刹海', '南锣鼓巷', '天坛公园', '北海公园', '景山公园', '北京海洋馆']\n",
      "['20/30°C', '21/29°C', '20/29°C', '22/29°C', '22/29°C', '22/31°C', '17/26°C', '21/29°C', '18/28°C', '17/27°C', '21/29°C', '20/30°C', '20/31°C', '20/31°C', '19/30°C', '19/29°C', '21/30°C', '20/29°C', '19/29°C', '21/30°C', '20/29°C', '20/29°C', '20/29°C', '21/29°C']\n"
     ]
    }
   ],
   "source": [
    "import requests\n",
    "from lxml import etree\n",
    "import pandas as pd\n",
    "import re\n",
    "\n",
    "url = 'http://www.weather.com.cn/weather1d/101010100.shtml#input'\n",
    "with requests.get(url) as res:\n",
    "    content = res.content\n",
    "    html = etree.HTML(content)\n",
    "    \n",
    "location = html.xpath('//*[@id=\"around\"]//a[@target=\"_blank\"]/span/text()')\n",
    "temperature = html.xpath('//*[@id=\"around\"]/div/ul/li/a/i/text()')\n",
    "print(location)\n",
    "print(temperature)"
   ]
  },
  {
   "cell_type": "markdown",
   "metadata": {},
   "source": [
    "## Pillow"
   ]
  },
  {
   "cell_type": "code",
   "execution_count": 8,
   "metadata": {},
   "outputs": [],
   "source": [
    "from PIL import Image\n",
    "im = Image.open('./img/006.png')"
   ]
  },
  {
   "cell_type": "code",
   "execution_count": 9,
   "metadata": {},
   "outputs": [],
   "source": [
    "im.rotate(45).show()"
   ]
  },
  {
   "cell_type": "code",
   "execution_count": 11,
   "metadata": {},
   "outputs": [],
   "source": [
    "from PIL import ImageFilter\n",
    "im.filter(ImageFilter.CONTOUR).show()"
   ]
  },
  {
   "cell_type": "code",
   "execution_count": 20,
   "metadata": {},
   "outputs": [],
   "source": [
    "im.thumbnail((128,72),Image.ANTIALIAS)\n",
    "im.show()"
   ]
  },
  {
   "cell_type": "markdown",
   "metadata": {},
   "source": [
    "## Pydantic"
   ]
  },
  {
   "cell_type": "code",
   "execution_count": 25,
   "metadata": {},
   "outputs": [
    {
     "name": "stdout",
     "output_type": "stream",
     "text": [
      "[\n",
      "  {\n",
      "    \"loc\": [\n",
      "      \"id\"\n",
      "    ],\n",
      "    \"msg\": \"field required\",\n",
      "    \"type\": \"value_error.missing\"\n",
      "  },\n",
      "  {\n",
      "    \"loc\": [\n",
      "      \"signup_timestamp\"\n",
      "    ],\n",
      "    \"msg\": \"invalid datetime format\",\n",
      "    \"type\": \"value_error.datetime\"\n",
      "  },\n",
      "  {\n",
      "    \"loc\": [\n",
      "      \"friends\",\n",
      "      3\n",
      "    ],\n",
      "    \"msg\": \"value is not a valid integer\",\n",
      "    \"type\": \"type_error.integer\"\n",
      "  }\n",
      "]\n"
     ]
    }
   ],
   "source": [
    "from pydantic import ValidationError\n",
    "from datetime import datetime\n",
    "from typing import List\n",
    "from pydantic import BaseModel\n",
    "\n",
    "class User(BaseModel):\n",
    "    id: int\n",
    "    name = 'Jack guo'\n",
    "    signup_timestamp: datetime = None\n",
    "    friends: List[int] = []\n",
    "        \n",
    "try:\n",
    "    User(signup_timestamp = 'not datetime', friends = [1,2,3,'not number'])\n",
    "except ValidationError as e:\n",
    "    print(e.json())"
   ]
  }
 ],
 "metadata": {
  "kernelspec": {
   "display_name": "Python 3",
   "language": "python",
   "name": "python3"
  },
  "language_info": {
   "codemirror_mode": {
    "name": "ipython",
    "version": 3
   },
   "file_extension": ".py",
   "mimetype": "text/x-python",
   "name": "python",
   "nbconvert_exporter": "python",
   "pygments_lexer": "ipython3",
   "version": "3.8.2"
  }
 },
 "nbformat": 4,
 "nbformat_minor": 4
}
